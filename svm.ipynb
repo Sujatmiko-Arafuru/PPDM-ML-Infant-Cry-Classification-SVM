{
 "cells": [
  {
   "cell_type": "markdown",
   "metadata": {},
   "source": [
    "# Support Vector Machine for Infant Cry Classification\n",
    "\n",
    "Implementasi SVM from scratch dengan algoritma Sequential Minimal Optimization (SMO) dan pendekatan One-vs-Rest untuk klasifikasi multiclass.\n",
    "\n",
    "## Table of Contents\n",
    "1. [Import Libraries & Setup](#1-import-libraries--setup)\n",
    "2. [Load Dataset](#2-load-dataset)\n",
    "3. [SVM Implementation](#3-svm-implementation)\n",
    "4. [One-vs-Rest Implementation](#4-one-vs-rest-implementation)\n",
    "5. [Hyperparameter Tuning](#5-hyperparameter-tuning)\n",
    "6. [Model Training & Evaluation](#6-model-training--evaluation)\n",
    "7. [Results Analysis](#7-results-analysis)\n",
    "8. [Save Model](#8-save-model)"
   ]
  },
  {
   "cell_type": "markdown",
   "metadata": {},
   "source": [
    "## 1. Import Libraries & Setup"
   ]
  },
  {
   "cell_type": "code",
   "execution_count": 1,
   "metadata": {},
   "outputs": [
    {
     "name": "stdout",
     "output_type": "stream",
     "text": [
      "================================================================================\n",
      "SUPPORT VECTOR MACHINE FOR INFANT CRY CLASSIFICATION\n",
      "================================================================================\n"
     ]
    }
   ],
   "source": [
    "%%time\n",
    "# -*- coding: utf-8 -*-\n",
    "import numpy as np\n",
    "import pandas as pd\n",
    "import matplotlib.pyplot as plt\n",
    "import seaborn as sns\n",
    "from sklearn.metrics import accuracy_score, classification_report, confusion_matrix\n",
    "from itertools import product\n",
    "import pickle\n",
    "import time\n",
    "from tqdm import tqdm\n",
    "import warnings\n",
    "warnings.filterwarnings('ignore')\n",
    "\n",
    "# Set random seed untuk reproducibility\n",
    "np.random.seed(42)\n",
    "\n",
    "print(\"=\" * 80)\n",
    "print(\"SUPPORT VECTOR MACHINE FOR INFANT CRY CLASSIFICATION\")\n",
    "print(\"=\" * 80)"
   ]
  },
  {
   "cell_type": "markdown",
   "metadata": {},
   "source": [
    "## 2. Load Dataset"
   ]
  },
  {
   "cell_type": "code",
   "execution_count": 2,
   "metadata": {},
   "outputs": [
    {
     "name": "stdout",
     "output_type": "stream",
     "text": [
      "\n",
      "1. LOADING DATASET...\n",
      "Dataset berhasil dimuat!\n",
      "Shape X_train: (1400, 34)\n",
      "Shape X_val: (300, 34)\n",
      "Shape X_test: (300, 34)\n",
      "Jumlah fitur: 34\n",
      "Label mapping: ['belly_pain' 'burping' 'discomfort' 'hungry' 'tired']\n",
      "Jumlah kelas: 5\n"
     ]
    }
   ],
   "source": [
    "print(\"\\n1. LOADING DATASET...\")\n",
    "\n",
    "# Load dataset\n",
    "dataset_path = 'dataset_preprocessed/stage3/dataset.npz'\n",
    "data = np.load(dataset_path, allow_pickle=True)\n",
    "\n",
    "# Extract data\n",
    "X_train = data['X_train']\n",
    "X_val = data['X_val']\n",
    "X_test = data['X_test']\n",
    "y_train = data['y_train']\n",
    "y_val = data['y_val']\n",
    "y_test = data['y_test']\n",
    "feature_names = data['feature_names']\n",
    "label_mapping = data['label_mapping']\n",
    "\n",
    "print(\"Dataset berhasil dimuat!\")\n",
    "print(f\"Shape X_train: {X_train.shape}\")\n",
    "print(f\"Shape X_val: {X_val.shape}\")\n",
    "print(f\"Shape X_test: {X_test.shape}\")\n",
    "print(f\"Jumlah fitur: {len(feature_names)}\")\n",
    "print(f\"Label mapping: {label_mapping}\")\n",
    "print(f\"Jumlah kelas: {len(np.unique(y_train))}\")"
   ]
  },
  {
   "cell_type": "markdown",
   "metadata": {},
   "source": [
    "## 3. SVM Implementation\n",
    "\n",
    "### 3.1 Kernel SVM dengan SMO Algorithm"
   ]
  },
  {
   "cell_type": "code",
   "execution_count": 3,
   "metadata": {},
   "outputs": [
    {
     "name": "stdout",
     "output_type": "stream",
     "text": [
      "\n",
      "2. IMPLEMENTASI SVM FROM SCRATCH...\n"
     ]
    }
   ],
   "source": [
    "print(\"\\n2. IMPLEMENTASI SVM FROM SCRATCH...\")\n",
    "\n",
    "class KernelSVM:\n",
    "    \"\"\"\n",
    "    Support Vector Machine dengan Sequential Minimal Optimization (SMO)\n",
    "    \"\"\"\n",
    "    \n",
    "    def __init__(self, C=1.0, kernel='linear', gamma=1.0, max_iter=1000, tol=1e-3, eps=1e-3):\n",
    "        \"\"\"\n",
    "        Parameters:\n",
    "        - C: parameter regularisasi\n",
    "        - kernel: jenis kernel ('linear' atau 'rbf')\n",
    "        - gamma: parameter untuk RBF kernel\n",
    "        - max_iter: maksimum iterasi\n",
    "        - tol: toleransi untuk konvergensi\n",
    "        - eps: epsilon untuk SMO\n",
    "        \"\"\"\n",
    "        self.C = C\n",
    "        self.kernel = kernel\n",
    "        self.gamma = gamma\n",
    "        self.max_iter = max_iter\n",
    "        self.tol = tol\n",
    "        self.eps = eps\n",
    "        \n",
    "    def _kernel_function(self, x1, x2):\n",
    "        \"\"\"Menghitung kernel function\"\"\"\n",
    "        if self.kernel == 'linear':\n",
    "            return np.dot(x1, x2.T)\n",
    "        elif self.kernel == 'rbf':\n",
    "            # RBF kernel: exp(-gamma * ||x1 - x2||^2)\n",
    "            if x1.ndim == 1:\n",
    "                x1 = x1.reshape(1, -1)\n",
    "            if x2.ndim == 1:\n",
    "                x2 = x2.reshape(1, -1)\n",
    "            \n",
    "            sq_dists = np.sum((x1[:, np.newaxis] - x2[np.newaxis, :]) ** 2, axis=2)\n",
    "            return np.exp(-self.gamma * sq_dists)\n",
    "        else:\n",
    "            raise ValueError(\"Kernel tidak didukung. Gunakan 'linear' atau 'rbf'\")\n",
    "    \n",
    "    def _compute_kernel_matrix(self, X1, X2=None):\n",
    "        \"\"\"Menghitung kernel matrix\"\"\"\n",
    "        if X2 is None:\n",
    "            X2 = X1\n",
    "        return self._kernel_function(X1, X2)"
   ]
  },
  {
   "cell_type": "code",
   "execution_count": 4,
   "metadata": {},
   "outputs": [],
   "source": [
    "# Lanjutan KernelSVM - SMO Algorithm Methods\n",
    "class KernelSVM(KernelSVM):  # Extend the previous class\n",
    "    \n",
    "    def _objective_function(self, i, j):\n",
    "        \"\"\"Menghitung objective function untuk pasangan alpha i dan j\"\"\"\n",
    "        if i == j:\n",
    "            return 0\n",
    "        \n",
    "        eta = self.K[i, i] + self.K[j, j] - 2 * self.K[i, j]\n",
    "        if eta <= 0:\n",
    "            return 0\n",
    "        \n",
    "        return eta\n",
    "    \n",
    "    def _select_second_alpha(self, i, E_i):\n",
    "        \"\"\"Memilih alpha kedua untuk optimasi\"\"\"\n",
    "        max_step = 0\n",
    "        j = -1\n",
    "        E_j = 0\n",
    "        \n",
    "        # Cari alpha yang memberikan langkah terbesar\n",
    "        for k in range(len(self.alphas)):\n",
    "            if k == i:\n",
    "                continue\n",
    "            E_k = self._compute_error(k)\n",
    "            step = abs(E_i - E_k)\n",
    "            if step > max_step:\n",
    "                max_step = step\n",
    "                j = k\n",
    "                E_j = E_k\n",
    "        \n",
    "        if j == -1:\n",
    "            # Jika tidak ada yang cocok, pilih secara random\n",
    "            j = np.random.choice([k for k in range(len(self.alphas)) if k != i])\n",
    "            E_j = self._compute_error(j)\n",
    "            \n",
    "        return j, E_j\n",
    "    \n",
    "    def _compute_error(self, i):\n",
    "        \"\"\"Menghitung error untuk sample i\"\"\"\n",
    "        prediction = np.sum(self.alphas * self.y * self.K[:, i]) + self.b\n",
    "        return prediction - self.y[i]"
   ]
  },
  {
   "cell_type": "code",
   "execution_count": 5,
   "metadata": {},
   "outputs": [],
   "source": [
    "# Lanjutan KernelSVM - Update Methods\n",
    "class KernelSVM(KernelSVM):  # Extend the previous class\n",
    "    \n",
    "    def _update_alpha_pair(self, i, j):\n",
    "        \"\"\"Update pasangan alpha i dan j\"\"\"\n",
    "        E_i = self._compute_error(i)\n",
    "        E_j = self._compute_error(j)\n",
    "        \n",
    "        # Simpan nilai lama\n",
    "        alpha_i_old = self.alphas[i]\n",
    "        alpha_j_old = self.alphas[j]\n",
    "        \n",
    "        # Hitung batas L dan H\n",
    "        if self.y[i] != self.y[j]:\n",
    "            L = max(0, self.alphas[j] - self.alphas[i])\n",
    "            H = min(self.C, self.C + self.alphas[j] - self.alphas[i])\n",
    "        else:\n",
    "            L = max(0, self.alphas[i] + self.alphas[j] - self.C)\n",
    "            H = min(self.C, self.alphas[i] + self.alphas[j])\n",
    "        \n",
    "        if L == H:\n",
    "            return 0\n",
    "        \n",
    "        # Hitung eta\n",
    "        eta = self._objective_function(i, j)\n",
    "        if eta <= 0:\n",
    "            return 0\n",
    "        \n",
    "        # Update alpha_j\n",
    "        self.alphas[j] = alpha_j_old + self.y[j] * (E_i - E_j) / eta\n",
    "        \n",
    "        # Clip alpha_j\n",
    "        if self.alphas[j] > H:\n",
    "            self.alphas[j] = H\n",
    "        elif self.alphas[j] < L:\n",
    "            self.alphas[j] = L\n",
    "        \n",
    "        # Cek apakah perubahan cukup signifikan\n",
    "        if abs(self.alphas[j] - alpha_j_old) < self.eps:\n",
    "            return 0\n",
    "        \n",
    "        # Update alpha_i\n",
    "        self.alphas[i] = alpha_i_old + self.y[i] * self.y[j] * (alpha_j_old - self.alphas[j])\n",
    "        \n",
    "        # Update bias b\n",
    "        b1 = self.b - E_i - self.y[i] * (self.alphas[i] - alpha_i_old) * self.K[i, i] - \\\n",
    "             self.y[j] * (self.alphas[j] - alpha_j_old) * self.K[i, j]\n",
    "        \n",
    "        b2 = self.b - E_j - self.y[i] * (self.alphas[i] - alpha_i_old) * self.K[i, j] - \\\n",
    "             self.y[j] * (self.alphas[j] - alpha_j_old) * self.K[j, j]\n",
    "        \n",
    "        if 0 < self.alphas[i] < self.C:\n",
    "            self.b = b1\n",
    "        elif 0 < self.alphas[j] < self.C:\n",
    "            self.b = b2\n",
    "        else:\n",
    "            self.b = (b1 + b2) / 2\n",
    "        \n",
    "        return 1"
   ]
  },
  {
   "cell_type": "code",
   "execution_count": 6,
   "metadata": {},
   "outputs": [
    {
     "name": "stdout",
     "output_type": "stream",
     "text": [
      "✅ Implementasi KernelSVM selesai!\n"
     ]
    }
   ],
   "source": [
    "# Lanjutan KernelSVM - Training dan Prediction Methods\n",
    "class KernelSVM(KernelSVM):  # Extend the previous class\n",
    "    \n",
    "    def fit(self, X, y):\n",
    "        \"\"\"Training SVM menggunakan SMO algorithm\"\"\"\n",
    "        self.X = X\n",
    "        self.y = y.astype(float)\n",
    "        n_samples = X.shape[0]\n",
    "        \n",
    "        # Inisialisasi\n",
    "        self.alphas = np.zeros(n_samples)\n",
    "        self.b = 0\n",
    "        \n",
    "        # Hitung kernel matrix\n",
    "        self.K = self._compute_kernel_matrix(X)\n",
    "        \n",
    "        # SMO algorithm\n",
    "        iteration = 0\n",
    "        num_changed = 0\n",
    "        examine_all = True\n",
    "        \n",
    "        while (num_changed > 0 or examine_all) and iteration < self.max_iter:\n",
    "            num_changed = 0\n",
    "            \n",
    "            if examine_all:\n",
    "                # Periksa semua sample\n",
    "                for i in range(n_samples):\n",
    "                    if self._examine_example(i):\n",
    "                        num_changed += 1\n",
    "            else:\n",
    "                # Periksa hanya non-bound samples\n",
    "                for i in range(n_samples):\n",
    "                    if 0 < self.alphas[i] < self.C:\n",
    "                        if self._examine_example(i):\n",
    "                            num_changed += 1\n",
    "            \n",
    "            if examine_all:\n",
    "                examine_all = False\n",
    "            elif num_changed == 0:\n",
    "                examine_all = True\n",
    "            \n",
    "            iteration += 1\n",
    "        \n",
    "        # Simpan support vectors\n",
    "        support_vector_idx = self.alphas > self.eps\n",
    "        self.support_vectors = X[support_vector_idx]\n",
    "        self.support_vector_labels = y[support_vector_idx]\n",
    "        self.support_vector_alphas = self.alphas[support_vector_idx]\n",
    "        \n",
    "        return self\n",
    "    \n",
    "    def _examine_example(self, i):\n",
    "        \"\"\"Periksa contoh i untuk optimasi\"\"\"\n",
    "        E_i = self._compute_error(i)\n",
    "        r_i = E_i * self.y[i]\n",
    "        \n",
    "        if (r_i < -self.tol and self.alphas[i] < self.C) or \\\n",
    "           (r_i > self.tol and self.alphas[i] > 0):\n",
    "            \n",
    "            # Pilih alpha kedua\n",
    "            j, E_j = self._select_second_alpha(i, E_i)\n",
    "            \n",
    "            if self._update_alpha_pair(i, j):\n",
    "                return True\n",
    "        \n",
    "        return False\n",
    "    \n",
    "    def predict(self, X):\n",
    "        \"\"\"Prediksi untuk data baru\"\"\"\n",
    "        if not hasattr(self, 'support_vectors'):\n",
    "            raise ValueError(\"Model belum di-training!\")\n",
    "        \n",
    "        # Hitung kernel antara data baru dan support vectors\n",
    "        K_pred = self._kernel_function(self.support_vectors, X)\n",
    "        \n",
    "        # Hitung prediksi\n",
    "        predictions = np.sum(self.support_vector_alphas.reshape(-1, 1) * \n",
    "                           self.support_vector_labels.reshape(-1, 1) * K_pred, axis=0) + self.b\n",
    "        \n",
    "        return np.sign(predictions)\n",
    "    \n",
    "    def decision_function(self, X):\n",
    "        \"\"\"Menghitung decision function untuk data baru\"\"\"\n",
    "        if not hasattr(self, 'support_vectors'):\n",
    "            raise ValueError(\"Model belum di-training!\")\n",
    "        \n",
    "        # Hitung kernel antara data baru dan support vectors\n",
    "        K_pred = self._kernel_function(self.support_vectors, X)\n",
    "        \n",
    "        # Hitung decision function\n",
    "        decision = np.sum(self.support_vector_alphas.reshape(-1, 1) * \n",
    "                         self.support_vector_labels.reshape(-1, 1) * K_pred, axis=0) + self.b\n",
    "        \n",
    "        return decision\n",
    "\n",
    "print(\"✅ Implementasi KernelSVM selesai!\")"
   ]
  },
  {
   "cell_type": "markdown",
   "metadata": {},
   "source": [
    "## 4. One-vs-Rest Implementation\n",
    "\n",
    "### 4.1 One-vs-Rest SVM untuk Multiclass Classification"
   ]
  },
  {
   "cell_type": "code",
   "execution_count": 7,
   "metadata": {},
   "outputs": [
    {
     "name": "stdout",
     "output_type": "stream",
     "text": [
      "\n",
      "3. IMPLEMENTASI ONE-VS-REST...\n",
      "✅ Implementasi OneVsRestSVM selesai!\n"
     ]
    }
   ],
   "source": [
    "print(\"\\n3. IMPLEMENTASI ONE-VS-REST...\")\n",
    "\n",
    "class OneVsRestSVM:\n",
    "    \"\"\"\n",
    "    One-vs-Rest SVM untuk klasifikasi multiclass\n",
    "    \"\"\"\n",
    "    \n",
    "    def __init__(self, C=1.0, kernel='linear', gamma=1.0, max_iter=1000, tol=1e-3, eps=1e-3):\n",
    "        \"\"\"\n",
    "        Parameters sama dengan KernelSVM\n",
    "        \"\"\"\n",
    "        self.C = C\n",
    "        self.kernel = kernel\n",
    "        self.gamma = gamma\n",
    "        self.max_iter = max_iter\n",
    "        self.tol = tol\n",
    "        self.eps = eps\n",
    "        self.classifiers = {}\n",
    "        \n",
    "    def fit(self, X, y):\n",
    "        \"\"\"\n",
    "        Training One-vs-Rest SVM\n",
    "        \"\"\"\n",
    "        self.classes = np.unique(y)\n",
    "        self.n_classes = len(self.classes)\n",
    "        \n",
    "        print(f\"Training {self.n_classes} binary classifiers...\")\n",
    "        \n",
    "        # Training satu classifier untuk setiap kelas\n",
    "        for i, class_label in enumerate(tqdm(self.classes, desc=\"Training classifiers\")):\n",
    "            # Buat binary labels: +1 untuk kelas saat ini, -1 untuk yang lain\n",
    "            binary_y = np.where(y == class_label, 1, -1)\n",
    "            \n",
    "            # Training binary SVM\n",
    "            classifier = KernelSVM(\n",
    "                C=self.C,\n",
    "                kernel=self.kernel,\n",
    "                gamma=self.gamma,\n",
    "                max_iter=self.max_iter,\n",
    "                tol=self.tol,\n",
    "                eps=self.eps\n",
    "            )\n",
    "            \n",
    "            classifier.fit(X, binary_y)\n",
    "            self.classifiers[class_label] = classifier\n",
    "        \n",
    "        return self\n",
    "    \n",
    "    def predict(self, X):\n",
    "        \"\"\"\n",
    "        Prediksi menggunakan One-vs-Rest\n",
    "        \"\"\"\n",
    "        if not self.classifiers:\n",
    "            raise ValueError(\"Model belum di-training!\")\n",
    "        \n",
    "        n_samples = X.shape[0]\n",
    "        decision_scores = np.zeros((n_samples, self.n_classes))\n",
    "        \n",
    "        # Hitung decision function untuk setiap classifier\n",
    "        for i, class_label in enumerate(self.classes):\n",
    "            decision_scores[:, i] = self.classifiers[class_label].decision_function(X)\n",
    "        \n",
    "        # Pilih kelas dengan decision score tertinggi\n",
    "        predicted_class_indices = np.argmax(decision_scores, axis=1)\n",
    "        predictions = self.classes[predicted_class_indices]\n",
    "        \n",
    "        return predictions\n",
    "    \n",
    "    def predict_proba(self, X):\n",
    "        \"\"\"\n",
    "        Prediksi probabilitas (menggunakan decision function sebagai proxy)\n",
    "        \"\"\"\n",
    "        if not self.classifiers:\n",
    "            raise ValueError(\"Model belum di-training!\")\n",
    "        \n",
    "        n_samples = X.shape[0]\n",
    "        decision_scores = np.zeros((n_samples, self.n_classes))\n",
    "        \n",
    "        # Hitung decision function untuk setiap classifier\n",
    "        for i, class_label in enumerate(self.classes):\n",
    "            decision_scores[:, i] = self.classifiers[class_label].decision_function(X)\n",
    "        \n",
    "        # Normalisasi menggunakan softmax\n",
    "        exp_scores = np.exp(decision_scores - np.max(decision_scores, axis=1, keepdims=True))\n",
    "        probabilities = exp_scores / np.sum(exp_scores, axis=1, keepdims=True)\n",
    "        \n",
    "        return probabilities\n",
    "\n",
    "print(\"✅ Implementasi OneVsRestSVM selesai!\")"
   ]
  },
  {
   "cell_type": "markdown",
   "metadata": {},
   "source": [
    "## 5. Hyperparameter Tuning\n",
    "\n",
    "### 5.1 Grid Search Function"
   ]
  },
  {
   "cell_type": "code",
   "execution_count": 8,
   "metadata": {},
   "outputs": [
    {
     "name": "stdout",
     "output_type": "stream",
     "text": [
      "\n",
      "4. GRID SEARCH HYPERPARAMETER TUNING...\n",
      "✅ Grid search function ready!\n"
     ]
    }
   ],
   "source": [
    "print(\"\\n4. GRID SEARCH HYPERPARAMETER TUNING...\")\n",
    "\n",
    "def grid_search_svm(X_train, y_train, X_val, y_val, param_grid):\n",
    "    \"\"\"\n",
    "    Grid search untuk finding best hyperparameters\n",
    "    \"\"\"\n",
    "    best_score = 0\n",
    "    best_params = None\n",
    "    best_model = None\n",
    "    results = []\n",
    "    \n",
    "    # Generate semua kombinasi parameter\n",
    "    param_combinations = list(product(*param_grid.values()))\n",
    "    param_names = list(param_grid.keys())\n",
    "    \n",
    "    print(f\"Melakukan grid search dengan {len(param_combinations)} kombinasi parameter...\")\n",
    "    print(f\"Parameter yang di-tune: {param_names}\")\n",
    "    \n",
    "    for i, params in enumerate(tqdm(param_combinations, desc=\"Grid Search\")):\n",
    "        # Buat dictionary parameter\n",
    "        current_params = dict(zip(param_names, params))\n",
    "        \n",
    "        try:\n",
    "            # Training model dengan parameter saat ini\n",
    "            model = OneVsRestSVM(**current_params)\n",
    "            \n",
    "            start_time = time.time()\n",
    "            model.fit(X_train, y_train)\n",
    "            train_time = time.time() - start_time\n",
    "            \n",
    "            # Evaluasi pada validation set\n",
    "            y_pred = model.predict(X_val)\n",
    "            score = accuracy_score(y_val, y_pred)\n",
    "            \n",
    "            # Simpan hasil\n",
    "            result = {\n",
    "                'params': current_params.copy(),\n",
    "                'validation_accuracy': score,\n",
    "                'train_time': train_time\n",
    "            }\n",
    "            results.append(result)\n",
    "            \n",
    "            # Update best model jika perlu\n",
    "            if score > best_score:\n",
    "                best_score = score\n",
    "                best_params = current_params.copy()\n",
    "                best_model = model\n",
    "            \n",
    "            print(f\"\\nKombinasi {i+1}/{len(param_combinations)}:\")\n",
    "            print(f\"  Parameters: {current_params}\")\n",
    "            print(f\"  Validation Accuracy: {score:.4f}\")\n",
    "            print(f\"  Training Time: {train_time:.2f} seconds\")\n",
    "            \n",
    "        except Exception as e:\n",
    "            print(f\"\\nError pada kombinasi {i+1}: {current_params}\")\n",
    "            print(f\"  Error: {str(e)}\")\n",
    "            continue\n",
    "    \n",
    "    print(f\"\\n{'='*80}\")\n",
    "    print(\"HASIL GRID SEARCH:\")\n",
    "    print(f\"Best Validation Accuracy: {best_score:.4f}\")\n",
    "    print(f\"Best Parameters: {best_params}\")\n",
    "    print(f\"{'='*80}\")\n",
    "    \n",
    "    return best_model, best_params, best_score, results\n",
    "\n",
    "print(\"✅ Grid search function ready!\")"
   ]
  },
  {
   "cell_type": "markdown",
   "metadata": {},
   "source": [
    "### 5.2 Define Parameter Grids"
   ]
  },
  {
   "cell_type": "code",
   "execution_count": 9,
   "metadata": {},
   "outputs": [
    {
     "name": "stdout",
     "output_type": "stream",
     "text": [
      "Grid search akan dilakukan dalam 2 tahap:\n",
      "1. Linear kernel: 24 kombinasi\n",
      "2. RBF kernel: 72 kombinasi\n"
     ]
    }
   ],
   "source": [
    "# Parameter grid untuk linear kernel\n",
    "linear_param_grid = {\n",
    "    'kernel': ['linear'],\n",
    "    'C': [0.1, 1.0, 10.0],\n",
    "    'max_iter': [500, 1000],\n",
    "    'tol': [1e-3, 1e-4],\n",
    "    'eps': [1e-3, 1e-4],\n",
    "    'gamma': [1.0]  # Tidak digunakan untuk linear, tapi perlu ada\n",
    "}\n",
    "\n",
    "# Parameter grid untuk RBF kernel\n",
    "rbf_param_grid = {\n",
    "    'kernel': ['rbf'],\n",
    "    'C': [0.1, 1.0, 10.0],\n",
    "    'gamma': [0.001, 0.01, 0.1],\n",
    "    'max_iter': [500, 1000],\n",
    "    'tol': [1e-3, 1e-4],\n",
    "    'eps': [1e-3, 1e-4]\n",
    "}\n",
    "\n",
    "print(\"Grid search akan dilakukan dalam 2 tahap:\")\n",
    "print(f\"1. Linear kernel: {np.prod([len(v) for v in linear_param_grid.values()])} kombinasi\")\n",
    "print(f\"2. RBF kernel: {np.prod([len(v) for v in rbf_param_grid.values()])} kombinasi\")"
   ]
  },
  {
   "cell_type": "markdown",
   "metadata": {},
   "source": [
    "### 5.3 Execute Grid Search - Linear Kernel"
   ]
  },
  {
   "cell_type": "code",
   "execution_count": 10,
   "metadata": {},
   "outputs": [
    {
     "name": "stdout",
     "output_type": "stream",
     "text": [
      "\n",
      "5. EKSEKUSI GRID SEARCH...\n",
      "================================================================================\n",
      "GRID SEARCH - LINEAR KERNEL\n",
      "================================================================================\n",
      "Melakukan grid search dengan 24 kombinasi parameter...\n",
      "Parameter yang di-tune: ['kernel', 'C', 'max_iter', 'tol', 'eps', 'gamma']\n"
     ]
    },
    {
     "name": "stderr",
     "output_type": "stream",
     "text": [
      "Grid Search:   0%|          | 0/24 [00:00<?, ?it/s]"
     ]
    },
    {
     "name": "stdout",
     "output_type": "stream",
     "text": [
      "Training 5 binary classifiers...\n"
     ]
    },
    {
     "name": "stderr",
     "output_type": "stream",
     "text": [
      "Training classifiers: 100%|██████████| 5/5 [02:09<00:00, 25.90s/it]\n",
      "Grid Search:   4%|▍         | 1/24 [02:09<49:39, 129.52s/it]"
     ]
    },
    {
     "name": "stdout",
     "output_type": "stream",
     "text": [
      "\n",
      "Kombinasi 1/24:\n",
      "  Parameters: {'kernel': 'linear', 'C': 0.1, 'max_iter': 500, 'tol': 0.001, 'eps': 0.001, 'gamma': 1.0}\n",
      "  Validation Accuracy: 0.2700\n",
      "  Training Time: 129.51 seconds\n",
      "Training 5 binary classifiers...\n"
     ]
    },
    {
     "name": "stderr",
     "output_type": "stream",
     "text": [
      "Training classifiers: 100%|██████████| 5/5 [02:06<00:00, 25.32s/it]\n",
      "Grid Search:   8%|▊         | 2/24 [04:16<46:51, 127.79s/it]"
     ]
    },
    {
     "name": "stdout",
     "output_type": "stream",
     "text": [
      "\n",
      "Kombinasi 2/24:\n",
      "  Parameters: {'kernel': 'linear', 'C': 0.1, 'max_iter': 500, 'tol': 0.001, 'eps': 0.0001, 'gamma': 1.0}\n",
      "  Validation Accuracy: 0.2700\n",
      "  Training Time: 126.58 seconds\n",
      "Training 5 binary classifiers...\n"
     ]
    },
    {
     "name": "stderr",
     "output_type": "stream",
     "text": [
      "Training classifiers: 100%|██████████| 5/5 [02:09<00:00, 25.99s/it]\n",
      "Grid Search:  12%|█▎        | 3/24 [06:26<45:04, 128.78s/it]"
     ]
    },
    {
     "name": "stdout",
     "output_type": "stream",
     "text": [
      "\n",
      "Kombinasi 3/24:\n",
      "  Parameters: {'kernel': 'linear', 'C': 0.1, 'max_iter': 500, 'tol': 0.0001, 'eps': 0.001, 'gamma': 1.0}\n",
      "  Validation Accuracy: 0.2700\n",
      "  Training Time: 129.95 seconds\n",
      "Training 5 binary classifiers...\n"
     ]
    },
    {
     "name": "stderr",
     "output_type": "stream",
     "text": [
      "Training classifiers: 100%|██████████| 5/5 [02:20<00:00, 28.06s/it]\n",
      "Grid Search:  17%|█▋        | 4/24 [08:46<44:26, 133.34s/it]"
     ]
    },
    {
     "name": "stdout",
     "output_type": "stream",
     "text": [
      "\n",
      "Kombinasi 4/24:\n",
      "  Parameters: {'kernel': 'linear', 'C': 0.1, 'max_iter': 500, 'tol': 0.0001, 'eps': 0.0001, 'gamma': 1.0}\n",
      "  Validation Accuracy: 0.2700\n",
      "  Training Time: 140.31 seconds\n",
      "Training 5 binary classifiers...\n"
     ]
    },
    {
     "name": "stderr",
     "output_type": "stream",
     "text": [
      "Training classifiers: 100%|██████████| 5/5 [02:28<00:00, 29.76s/it]\n",
      "Grid Search:  21%|██        | 5/24 [11:15<43:59, 138.92s/it]"
     ]
    },
    {
     "name": "stdout",
     "output_type": "stream",
     "text": [
      "\n",
      "Kombinasi 5/24:\n",
      "  Parameters: {'kernel': 'linear', 'C': 0.1, 'max_iter': 1000, 'tol': 0.001, 'eps': 0.001, 'gamma': 1.0}\n",
      "  Validation Accuracy: 0.2700\n",
      "  Training Time: 148.82 seconds\n",
      "Training 5 binary classifiers...\n"
     ]
    },
    {
     "name": "stderr",
     "output_type": "stream",
     "text": [
      "Training classifiers: 100%|██████████| 5/5 [02:17<00:00, 27.41s/it]\n",
      "Grid Search:  25%|██▌       | 6/24 [13:32<41:29, 138.29s/it]"
     ]
    },
    {
     "name": "stdout",
     "output_type": "stream",
     "text": [
      "\n",
      "Kombinasi 6/24:\n",
      "  Parameters: {'kernel': 'linear', 'C': 0.1, 'max_iter': 1000, 'tol': 0.001, 'eps': 0.0001, 'gamma': 1.0}\n",
      "  Validation Accuracy: 0.2700\n",
      "  Training Time: 137.05 seconds\n",
      "Training 5 binary classifiers...\n"
     ]
    },
    {
     "name": "stderr",
     "output_type": "stream",
     "text": [
      "Training classifiers: 100%|██████████| 5/5 [02:15<00:00, 27.06s/it]\n",
      "Grid Search:  29%|██▉       | 7/24 [15:47<38:54, 137.32s/it]"
     ]
    },
    {
     "name": "stdout",
     "output_type": "stream",
     "text": [
      "\n",
      "Kombinasi 7/24:\n",
      "  Parameters: {'kernel': 'linear', 'C': 0.1, 'max_iter': 1000, 'tol': 0.0001, 'eps': 0.001, 'gamma': 1.0}\n",
      "  Validation Accuracy: 0.2700\n",
      "  Training Time: 135.32 seconds\n",
      "Training 5 binary classifiers...\n"
     ]
    },
    {
     "name": "stderr",
     "output_type": "stream",
     "text": [
      "Training classifiers: 100%|██████████| 5/5 [02:15<00:00, 27.08s/it]\n",
      "Grid Search:  33%|███▎      | 8/24 [18:03<36:27, 136.72s/it]"
     ]
    },
    {
     "name": "stdout",
     "output_type": "stream",
     "text": [
      "\n",
      "Kombinasi 8/24:\n",
      "  Parameters: {'kernel': 'linear', 'C': 0.1, 'max_iter': 1000, 'tol': 0.0001, 'eps': 0.0001, 'gamma': 1.0}\n",
      "  Validation Accuracy: 0.2700\n",
      "  Training Time: 135.42 seconds\n",
      "Training 5 binary classifiers...\n"
     ]
    },
    {
     "name": "stderr",
     "output_type": "stream",
     "text": [
      "Training classifiers: 100%|██████████| 5/5 [03:31<00:00, 42.36s/it]\n",
      "Grid Search:  38%|███▊      | 9/24 [21:34<40:02, 160.20s/it]"
     ]
    },
    {
     "name": "stdout",
     "output_type": "stream",
     "text": [
      "\n",
      "Kombinasi 9/24:\n",
      "  Parameters: {'kernel': 'linear', 'C': 1.0, 'max_iter': 500, 'tol': 0.001, 'eps': 0.001, 'gamma': 1.0}\n",
      "  Validation Accuracy: 0.2967\n",
      "  Training Time: 211.81 seconds\n",
      "Training 5 binary classifiers...\n"
     ]
    },
    {
     "name": "stderr",
     "output_type": "stream",
     "text": [
      "Training classifiers: 100%|██████████| 5/5 [03:38<00:00, 43.63s/it]\n",
      "Grid Search:  42%|████▏     | 10/24 [25:12<41:33, 178.09s/it]"
     ]
    },
    {
     "name": "stdout",
     "output_type": "stream",
     "text": [
      "\n",
      "Kombinasi 10/24:\n",
      "  Parameters: {'kernel': 'linear', 'C': 1.0, 'max_iter': 500, 'tol': 0.001, 'eps': 0.0001, 'gamma': 1.0}\n",
      "  Validation Accuracy: 0.2967\n",
      "  Training Time: 218.13 seconds\n",
      "Training 5 binary classifiers...\n"
     ]
    },
    {
     "name": "stderr",
     "output_type": "stream",
     "text": [
      "Training classifiers: 100%|██████████| 5/5 [03:36<00:00, 43.40s/it]\n",
      "Grid Search:  46%|████▌     | 11/24 [28:49<41:09, 190.00s/it]"
     ]
    },
    {
     "name": "stdout",
     "output_type": "stream",
     "text": [
      "\n",
      "Kombinasi 11/24:\n",
      "  Parameters: {'kernel': 'linear', 'C': 1.0, 'max_iter': 500, 'tol': 0.0001, 'eps': 0.001, 'gamma': 1.0}\n",
      "  Validation Accuracy: 0.3033\n",
      "  Training Time: 216.99 seconds\n",
      "Training 5 binary classifiers...\n"
     ]
    },
    {
     "name": "stderr",
     "output_type": "stream",
     "text": [
      "Training classifiers: 100%|██████████| 5/5 [03:44<00:00, 44.86s/it]\n",
      "Grid Search:  50%|█████     | 12/24 [32:34<40:05, 200.44s/it]"
     ]
    },
    {
     "name": "stdout",
     "output_type": "stream",
     "text": [
      "\n",
      "Kombinasi 12/24:\n",
      "  Parameters: {'kernel': 'linear', 'C': 1.0, 'max_iter': 500, 'tol': 0.0001, 'eps': 0.0001, 'gamma': 1.0}\n",
      "  Validation Accuracy: 0.3033\n",
      "  Training Time: 224.31 seconds\n",
      "Training 5 binary classifiers...\n"
     ]
    },
    {
     "name": "stderr",
     "output_type": "stream",
     "text": [
      "Training classifiers: 100%|██████████| 5/5 [03:36<00:00, 43.25s/it]\n",
      "Grid Search:  54%|█████▍    | 13/24 [36:10<37:37, 205.23s/it]"
     ]
    },
    {
     "name": "stdout",
     "output_type": "stream",
     "text": [
      "\n",
      "Kombinasi 13/24:\n",
      "  Parameters: {'kernel': 'linear', 'C': 1.0, 'max_iter': 1000, 'tol': 0.001, 'eps': 0.001, 'gamma': 1.0}\n",
      "  Validation Accuracy: 0.2967\n",
      "  Training Time: 216.26 seconds\n",
      "Training 5 binary classifiers...\n"
     ]
    },
    {
     "name": "stderr",
     "output_type": "stream",
     "text": [
      "Training classifiers: 100%|██████████| 5/5 [03:32<00:00, 42.41s/it]\n",
      "Grid Search:  58%|█████▊    | 14/24 [39:42<34:32, 207.30s/it]"
     ]
    },
    {
     "name": "stdout",
     "output_type": "stream",
     "text": [
      "\n",
      "Kombinasi 14/24:\n",
      "  Parameters: {'kernel': 'linear', 'C': 1.0, 'max_iter': 1000, 'tol': 0.001, 'eps': 0.0001, 'gamma': 1.0}\n",
      "  Validation Accuracy: 0.2967\n",
      "  Training Time: 212.05 seconds\n",
      "Training 5 binary classifiers...\n"
     ]
    },
    {
     "name": "stderr",
     "output_type": "stream",
     "text": [
      "Training classifiers: 100%|██████████| 5/5 [03:33<00:00, 42.77s/it]\n",
      "Grid Search:  62%|██████▎   | 15/24 [43:16<31:23, 209.28s/it]"
     ]
    },
    {
     "name": "stdout",
     "output_type": "stream",
     "text": [
      "\n",
      "Kombinasi 15/24:\n",
      "  Parameters: {'kernel': 'linear', 'C': 1.0, 'max_iter': 1000, 'tol': 0.0001, 'eps': 0.001, 'gamma': 1.0}\n",
      "  Validation Accuracy: 0.3033\n",
      "  Training Time: 213.85 seconds\n",
      "Training 5 binary classifiers...\n"
     ]
    },
    {
     "name": "stderr",
     "output_type": "stream",
     "text": [
      "Training classifiers: 100%|██████████| 5/5 [03:37<00:00, 43.52s/it]\n",
      "Grid Search:  67%|██████▋   | 16/24 [46:54<28:14, 211.78s/it]"
     ]
    },
    {
     "name": "stdout",
     "output_type": "stream",
     "text": [
      "\n",
      "Kombinasi 16/24:\n",
      "  Parameters: {'kernel': 'linear', 'C': 1.0, 'max_iter': 1000, 'tol': 0.0001, 'eps': 0.0001, 'gamma': 1.0}\n",
      "  Validation Accuracy: 0.3033\n",
      "  Training Time: 217.60 seconds\n",
      "Training 5 binary classifiers...\n"
     ]
    },
    {
     "name": "stderr",
     "output_type": "stream",
     "text": [
      "Training classifiers: 100%|██████████| 5/5 [15:00<00:00, 180.06s/it]\n",
      "Grid Search:  71%|███████   | 17/24 [1:01:54<48:51, 418.83s/it]"
     ]
    },
    {
     "name": "stdout",
     "output_type": "stream",
     "text": [
      "\n",
      "Kombinasi 17/24:\n",
      "  Parameters: {'kernel': 'linear', 'C': 10.0, 'max_iter': 500, 'tol': 0.001, 'eps': 0.001, 'gamma': 1.0}\n",
      "  Validation Accuracy: 0.3033\n",
      "  Training Time: 900.31 seconds\n",
      "Training 5 binary classifiers...\n"
     ]
    },
    {
     "name": "stderr",
     "output_type": "stream",
     "text": [
      "Training classifiers: 100%|██████████| 5/5 [15:29<00:00, 185.95s/it]\n",
      "Grid Search:  75%|███████▌  | 18/24 [1:17:24<57:14, 572.36s/it]"
     ]
    },
    {
     "name": "stdout",
     "output_type": "stream",
     "text": [
      "\n",
      "Kombinasi 18/24:\n",
      "  Parameters: {'kernel': 'linear', 'C': 10.0, 'max_iter': 500, 'tol': 0.001, 'eps': 0.0001, 'gamma': 1.0}\n",
      "  Validation Accuracy: 0.2933\n",
      "  Training Time: 929.76 seconds\n",
      "Training 5 binary classifiers...\n"
     ]
    },
    {
     "name": "stderr",
     "output_type": "stream",
     "text": [
      "Training classifiers: 100%|██████████| 5/5 [14:46<00:00, 177.39s/it]\n",
      "Grid Search:  79%|███████▉  | 19/24 [1:32:11<55:34, 666.86s/it]"
     ]
    },
    {
     "name": "stdout",
     "output_type": "stream",
     "text": [
      "\n",
      "Kombinasi 19/24:\n",
      "  Parameters: {'kernel': 'linear', 'C': 10.0, 'max_iter': 500, 'tol': 0.0001, 'eps': 0.001, 'gamma': 1.0}\n",
      "  Validation Accuracy: 0.2667\n",
      "  Training Time: 886.97 seconds\n",
      "Training 5 binary classifiers...\n"
     ]
    },
    {
     "name": "stderr",
     "output_type": "stream",
     "text": [
      "Training classifiers: 100%|██████████| 5/5 [16:35<00:00, 199.18s/it]\n",
      "Grid Search:  83%|████████▎ | 20/24 [1:48:47<51:02, 765.66s/it]"
     ]
    },
    {
     "name": "stdout",
     "output_type": "stream",
     "text": [
      "\n",
      "Kombinasi 20/24:\n",
      "  Parameters: {'kernel': 'linear', 'C': 10.0, 'max_iter': 500, 'tol': 0.0001, 'eps': 0.0001, 'gamma': 1.0}\n",
      "  Validation Accuracy: 0.2433\n",
      "  Training Time: 995.91 seconds\n",
      "Training 5 binary classifiers...\n"
     ]
    },
    {
     "name": "stderr",
     "output_type": "stream",
     "text": [
      "Training classifiers: 100%|██████████| 5/5 [15:37<00:00, 187.41s/it]\n",
      "Grid Search:  88%|████████▊ | 21/24 [2:04:24<40:51, 817.11s/it]"
     ]
    },
    {
     "name": "stdout",
     "output_type": "stream",
     "text": [
      "\n",
      "Kombinasi 21/24:\n",
      "  Parameters: {'kernel': 'linear', 'C': 10.0, 'max_iter': 1000, 'tol': 0.001, 'eps': 0.001, 'gamma': 1.0}\n",
      "  Validation Accuracy: 0.3033\n",
      "  Training Time: 937.06 seconds\n",
      "Training 5 binary classifiers...\n"
     ]
    },
    {
     "name": "stderr",
     "output_type": "stream",
     "text": [
      "Training classifiers: 100%|██████████| 5/5 [15:45<00:00, 189.06s/it]\n",
      "Grid Search:  92%|█████████▏| 22/24 [2:20:09<28:31, 855.60s/it]"
     ]
    },
    {
     "name": "stdout",
     "output_type": "stream",
     "text": [
      "\n",
      "Kombinasi 22/24:\n",
      "  Parameters: {'kernel': 'linear', 'C': 10.0, 'max_iter': 1000, 'tol': 0.001, 'eps': 0.0001, 'gamma': 1.0}\n",
      "  Validation Accuracy: 0.2933\n",
      "  Training Time: 945.31 seconds\n",
      "Training 5 binary classifiers...\n"
     ]
    },
    {
     "name": "stderr",
     "output_type": "stream",
     "text": [
      "Training classifiers: 100%|██████████| 5/5 [15:39<00:00, 187.82s/it]\n",
      "Grid Search:  96%|█████████▌| 23/24 [2:35:48<14:40, 880.66s/it]"
     ]
    },
    {
     "name": "stdout",
     "output_type": "stream",
     "text": [
      "\n",
      "Kombinasi 23/24:\n",
      "  Parameters: {'kernel': 'linear', 'C': 10.0, 'max_iter': 1000, 'tol': 0.0001, 'eps': 0.001, 'gamma': 1.0}\n",
      "  Validation Accuracy: 0.2667\n",
      "  Training Time: 939.08 seconds\n",
      "Training 5 binary classifiers...\n"
     ]
    },
    {
     "name": "stderr",
     "output_type": "stream",
     "text": [
      "Training classifiers: 100%|██████████| 5/5 [15:59<00:00, 191.96s/it]\n",
      "Grid Search: 100%|██████████| 24/24 [2:51:48<00:00, 429.52s/it]"
     ]
    },
    {
     "name": "stdout",
     "output_type": "stream",
     "text": [
      "\n",
      "Kombinasi 24/24:\n",
      "  Parameters: {'kernel': 'linear', 'C': 10.0, 'max_iter': 1000, 'tol': 0.0001, 'eps': 0.0001, 'gamma': 1.0}\n",
      "  Validation Accuracy: 0.2433\n",
      "  Training Time: 959.78 seconds\n",
      "\n",
      "================================================================================\n",
      "HASIL GRID SEARCH:\n",
      "Best Validation Accuracy: 0.3033\n",
      "Best Parameters: {'kernel': 'linear', 'C': 1.0, 'max_iter': 500, 'tol': 0.0001, 'eps': 0.001, 'gamma': 1.0}\n",
      "================================================================================\n"
     ]
    },
    {
     "name": "stderr",
     "output_type": "stream",
     "text": [
      "\n"
     ]
    }
   ],
   "source": [
    "print(\"\\n5. EKSEKUSI GRID SEARCH...\")\n",
    "print(\"=\" * 80)\n",
    "print(\"GRID SEARCH - LINEAR KERNEL\")\n",
    "print(\"=\" * 80)\n",
    "\n",
    "best_linear_model, best_linear_params, best_linear_score, linear_results = grid_search_svm(\n",
    "    X_train, y_train, X_val, y_val, linear_param_grid\n",
    ")"
   ]
  },
  {
   "cell_type": "markdown",
   "metadata": {},
   "source": [
    "### 5.4 Execute Grid Search - RBF Kernel"
   ]
  },
  {
   "cell_type": "code",
   "execution_count": 11,
   "metadata": {},
   "outputs": [
    {
     "name": "stdout",
     "output_type": "stream",
     "text": [
      "================================================================================\n",
      "GRID SEARCH - RBF KERNEL\n",
      "================================================================================\n",
      "Melakukan grid search dengan 72 kombinasi parameter...\n",
      "Parameter yang di-tune: ['kernel', 'C', 'gamma', 'max_iter', 'tol', 'eps']\n"
     ]
    },
    {
     "name": "stderr",
     "output_type": "stream",
     "text": [
      "Grid Search:   0%|          | 0/72 [00:00<?, ?it/s]"
     ]
    },
    {
     "name": "stdout",
     "output_type": "stream",
     "text": [
      "Training 5 binary classifiers...\n"
     ]
    },
    {
     "name": "stderr",
     "output_type": "stream",
     "text": [
      "Training classifiers: 100%|██████████| 5/5 [02:28<00:00, 29.69s/it]\n",
      "Grid Search:   1%|▏         | 1/72 [02:28<2:55:39, 148.44s/it]"
     ]
    },
    {
     "name": "stdout",
     "output_type": "stream",
     "text": [
      "\n",
      "Kombinasi 1/72:\n",
      "  Parameters: {'kernel': 'rbf', 'C': 0.1, 'gamma': 0.001, 'max_iter': 500, 'tol': 0.001, 'eps': 0.001}\n",
      "  Validation Accuracy: 0.1900\n",
      "  Training Time: 148.43 seconds\n",
      "Training 5 binary classifiers...\n"
     ]
    },
    {
     "name": "stderr",
     "output_type": "stream",
     "text": [
      "Training classifiers: 100%|██████████| 5/5 [02:28<00:00, 29.71s/it]\n",
      "Grid Search:   3%|▎         | 2/72 [04:57<2:53:16, 148.53s/it]"
     ]
    },
    {
     "name": "stdout",
     "output_type": "stream",
     "text": [
      "\n",
      "Kombinasi 2/72:\n",
      "  Parameters: {'kernel': 'rbf', 'C': 0.1, 'gamma': 0.001, 'max_iter': 500, 'tol': 0.001, 'eps': 0.0001}\n",
      "  Validation Accuracy: 0.1900\n",
      "  Training Time: 148.57 seconds\n",
      "Training 5 binary classifiers...\n"
     ]
    },
    {
     "name": "stderr",
     "output_type": "stream",
     "text": [
      "Training classifiers: 100%|██████████| 5/5 [02:27<00:00, 29.57s/it]\n",
      "Grid Search:   4%|▍         | 3/72 [07:24<2:50:27, 148.22s/it]"
     ]
    },
    {
     "name": "stdout",
     "output_type": "stream",
     "text": [
      "\n",
      "Kombinasi 3/72:\n",
      "  Parameters: {'kernel': 'rbf', 'C': 0.1, 'gamma': 0.001, 'max_iter': 500, 'tol': 0.0001, 'eps': 0.001}\n",
      "  Validation Accuracy: 0.1900\n",
      "  Training Time: 147.84 seconds\n",
      "Training 5 binary classifiers...\n"
     ]
    },
    {
     "name": "stderr",
     "output_type": "stream",
     "text": [
      "Training classifiers: 100%|██████████| 5/5 [02:28<00:00, 29.72s/it]\n",
      "Grid Search:   6%|▌         | 4/72 [09:53<2:48:09, 148.37s/it]"
     ]
    },
    {
     "name": "stdout",
     "output_type": "stream",
     "text": [
      "\n",
      "Kombinasi 4/72:\n",
      "  Parameters: {'kernel': 'rbf', 'C': 0.1, 'gamma': 0.001, 'max_iter': 500, 'tol': 0.0001, 'eps': 0.0001}\n",
      "  Validation Accuracy: 0.1900\n",
      "  Training Time: 148.59 seconds\n",
      "Training 5 binary classifiers...\n"
     ]
    },
    {
     "name": "stderr",
     "output_type": "stream",
     "text": [
      "Training classifiers: 100%|██████████| 5/5 [02:29<00:00, 29.90s/it]\n",
      "Grid Search:   7%|▋         | 5/72 [12:22<2:46:08, 148.78s/it]"
     ]
    },
    {
     "name": "stdout",
     "output_type": "stream",
     "text": [
      "\n",
      "Kombinasi 5/72:\n",
      "  Parameters: {'kernel': 'rbf', 'C': 0.1, 'gamma': 0.001, 'max_iter': 1000, 'tol': 0.001, 'eps': 0.001}\n",
      "  Validation Accuracy: 0.1900\n",
      "  Training Time: 149.49 seconds\n",
      "Training 5 binary classifiers...\n"
     ]
    },
    {
     "name": "stderr",
     "output_type": "stream",
     "text": [
      "Training classifiers: 100%|██████████| 5/5 [02:28<00:00, 29.67s/it]\n",
      "Grid Search:   8%|▊         | 6/72 [14:51<2:43:29, 148.64s/it]"
     ]
    },
    {
     "name": "stdout",
     "output_type": "stream",
     "text": [
      "\n",
      "Kombinasi 6/72:\n",
      "  Parameters: {'kernel': 'rbf', 'C': 0.1, 'gamma': 0.001, 'max_iter': 1000, 'tol': 0.001, 'eps': 0.0001}\n",
      "  Validation Accuracy: 0.1900\n",
      "  Training Time: 148.34 seconds\n",
      "Training 5 binary classifiers...\n"
     ]
    },
    {
     "name": "stderr",
     "output_type": "stream",
     "text": [
      "Training classifiers: 100%|██████████| 5/5 [02:29<00:00, 29.84s/it]\n",
      "Grid Search:  10%|▉         | 7/72 [17:20<2:41:13, 148.82s/it]"
     ]
    },
    {
     "name": "stdout",
     "output_type": "stream",
     "text": [
      "\n",
      "Kombinasi 7/72:\n",
      "  Parameters: {'kernel': 'rbf', 'C': 0.1, 'gamma': 0.001, 'max_iter': 1000, 'tol': 0.0001, 'eps': 0.001}\n",
      "  Validation Accuracy: 0.1900\n",
      "  Training Time: 149.19 seconds\n",
      "Training 5 binary classifiers...\n"
     ]
    },
    {
     "name": "stderr",
     "output_type": "stream",
     "text": [
      "Training classifiers: 100%|██████████| 5/5 [02:28<00:00, 29.64s/it]\n",
      "Grid Search:  11%|█         | 8/72 [19:48<2:38:32, 148.63s/it]"
     ]
    },
    {
     "name": "stdout",
     "output_type": "stream",
     "text": [
      "\n",
      "Kombinasi 8/72:\n",
      "  Parameters: {'kernel': 'rbf', 'C': 0.1, 'gamma': 0.001, 'max_iter': 1000, 'tol': 0.0001, 'eps': 0.0001}\n",
      "  Validation Accuracy: 0.1900\n",
      "  Training Time: 148.21 seconds\n",
      "Training 5 binary classifiers...\n"
     ]
    },
    {
     "name": "stderr",
     "output_type": "stream",
     "text": [
      "Training classifiers: 100%|██████████| 5/5 [02:21<00:00, 28.29s/it]\n",
      "Grid Search:  12%|█▎        | 9/72 [22:10<2:33:43, 146.41s/it]"
     ]
    },
    {
     "name": "stdout",
     "output_type": "stream",
     "text": [
      "\n",
      "Kombinasi 9/72:\n",
      "  Parameters: {'kernel': 'rbf', 'C': 0.1, 'gamma': 0.01, 'max_iter': 500, 'tol': 0.001, 'eps': 0.001}\n",
      "  Validation Accuracy: 0.3633\n",
      "  Training Time: 141.47 seconds\n",
      "Training 5 binary classifiers...\n"
     ]
    },
    {
     "name": "stderr",
     "output_type": "stream",
     "text": [
      "Training classifiers: 100%|██████████| 5/5 [02:21<00:00, 28.26s/it]\n",
      "Grid Search:  14%|█▍        | 10/72 [24:31<2:29:40, 144.84s/it]"
     ]
    },
    {
     "name": "stdout",
     "output_type": "stream",
     "text": [
      "\n",
      "Kombinasi 10/72:\n",
      "  Parameters: {'kernel': 'rbf', 'C': 0.1, 'gamma': 0.01, 'max_iter': 500, 'tol': 0.001, 'eps': 0.0001}\n",
      "  Validation Accuracy: 0.3633\n",
      "  Training Time: 141.31 seconds\n",
      "Training 5 binary classifiers...\n"
     ]
    },
    {
     "name": "stderr",
     "output_type": "stream",
     "text": [
      "Training classifiers: 100%|██████████| 5/5 [02:20<00:00, 28.19s/it]\n",
      "Grid Search:  15%|█▌        | 11/72 [26:52<2:26:03, 143.66s/it]"
     ]
    },
    {
     "name": "stdout",
     "output_type": "stream",
     "text": [
      "\n",
      "Kombinasi 11/72:\n",
      "  Parameters: {'kernel': 'rbf', 'C': 0.1, 'gamma': 0.01, 'max_iter': 500, 'tol': 0.0001, 'eps': 0.001}\n",
      "  Validation Accuracy: 0.3633\n",
      "  Training Time: 140.95 seconds\n",
      "Training 5 binary classifiers...\n"
     ]
    },
    {
     "name": "stderr",
     "output_type": "stream",
     "text": [
      "Training classifiers: 100%|██████████| 5/5 [02:20<00:00, 28.01s/it]\n",
      "Grid Search:  17%|█▋        | 12/72 [29:12<2:22:34, 142.58s/it]"
     ]
    },
    {
     "name": "stdout",
     "output_type": "stream",
     "text": [
      "\n",
      "Kombinasi 12/72:\n",
      "  Parameters: {'kernel': 'rbf', 'C': 0.1, 'gamma': 0.01, 'max_iter': 500, 'tol': 0.0001, 'eps': 0.0001}\n",
      "  Validation Accuracy: 0.3633\n",
      "  Training Time: 140.07 seconds\n",
      "Training 5 binary classifiers...\n"
     ]
    },
    {
     "name": "stderr",
     "output_type": "stream",
     "text": [
      "Training classifiers: 100%|██████████| 5/5 [02:21<00:00, 28.37s/it]\n",
      "Grid Search:  18%|█▊        | 13/72 [31:34<2:20:00, 142.37s/it]"
     ]
    },
    {
     "name": "stdout",
     "output_type": "stream",
     "text": [
      "\n",
      "Kombinasi 13/72:\n",
      "  Parameters: {'kernel': 'rbf', 'C': 0.1, 'gamma': 0.01, 'max_iter': 1000, 'tol': 0.001, 'eps': 0.001}\n",
      "  Validation Accuracy: 0.3633\n",
      "  Training Time: 141.86 seconds\n",
      "Training 5 binary classifiers...\n"
     ]
    },
    {
     "name": "stderr",
     "output_type": "stream",
     "text": [
      "Training classifiers: 100%|██████████| 5/5 [02:21<00:00, 28.22s/it]\n",
      "Grid Search:  19%|█▉        | 14/72 [33:55<2:17:16, 142.00s/it]"
     ]
    },
    {
     "name": "stdout",
     "output_type": "stream",
     "text": [
      "\n",
      "Kombinasi 14/72:\n",
      "  Parameters: {'kernel': 'rbf', 'C': 0.1, 'gamma': 0.01, 'max_iter': 1000, 'tol': 0.001, 'eps': 0.0001}\n",
      "  Validation Accuracy: 0.3633\n",
      "  Training Time: 141.11 seconds\n",
      "Training 5 binary classifiers...\n"
     ]
    },
    {
     "name": "stderr",
     "output_type": "stream",
     "text": [
      "Training classifiers: 100%|██████████| 5/5 [02:20<00:00, 28.12s/it]\n",
      "Grid Search:  21%|██        | 15/72 [36:16<2:14:31, 141.60s/it]"
     ]
    },
    {
     "name": "stdout",
     "output_type": "stream",
     "text": [
      "\n",
      "Kombinasi 15/72:\n",
      "  Parameters: {'kernel': 'rbf', 'C': 0.1, 'gamma': 0.01, 'max_iter': 1000, 'tol': 0.0001, 'eps': 0.001}\n",
      "  Validation Accuracy: 0.3633\n",
      "  Training Time: 140.61 seconds\n",
      "Training 5 binary classifiers...\n"
     ]
    },
    {
     "name": "stderr",
     "output_type": "stream",
     "text": [
      "Training classifiers: 100%|██████████| 5/5 [02:22<00:00, 28.47s/it]\n",
      "Grid Search:  22%|██▏       | 16/72 [38:38<2:12:22, 141.84s/it]"
     ]
    },
    {
     "name": "stdout",
     "output_type": "stream",
     "text": [
      "\n",
      "Kombinasi 16/72:\n",
      "  Parameters: {'kernel': 'rbf', 'C': 0.1, 'gamma': 0.01, 'max_iter': 1000, 'tol': 0.0001, 'eps': 0.0001}\n",
      "  Validation Accuracy: 0.3633\n",
      "  Training Time: 142.36 seconds\n",
      "Training 5 binary classifiers...\n"
     ]
    },
    {
     "name": "stderr",
     "output_type": "stream",
     "text": [
      "Training classifiers: 100%|██████████| 5/5 [02:13<00:00, 26.76s/it]\n",
      "Grid Search:  24%|██▎       | 17/72 [40:52<2:07:49, 139.44s/it]"
     ]
    },
    {
     "name": "stdout",
     "output_type": "stream",
     "text": [
      "\n",
      "Kombinasi 17/72:\n",
      "  Parameters: {'kernel': 'rbf', 'C': 0.1, 'gamma': 0.1, 'max_iter': 500, 'tol': 0.001, 'eps': 0.001}\n",
      "  Validation Accuracy: 0.4433\n",
      "  Training Time: 133.80 seconds\n",
      "Training 5 binary classifiers...\n"
     ]
    },
    {
     "name": "stderr",
     "output_type": "stream",
     "text": [
      "Training classifiers: 100%|██████████| 5/5 [02:13<00:00, 26.63s/it]\n",
      "Grid Search:  25%|██▌       | 18/72 [43:05<2:03:48, 137.56s/it]"
     ]
    },
    {
     "name": "stdout",
     "output_type": "stream",
     "text": [
      "\n",
      "Kombinasi 18/72:\n",
      "  Parameters: {'kernel': 'rbf', 'C': 0.1, 'gamma': 0.1, 'max_iter': 500, 'tol': 0.001, 'eps': 0.0001}\n",
      "  Validation Accuracy: 0.4433\n",
      "  Training Time: 133.14 seconds\n",
      "Training 5 binary classifiers...\n"
     ]
    },
    {
     "name": "stderr",
     "output_type": "stream",
     "text": [
      "Training classifiers: 100%|██████████| 5/5 [02:12<00:00, 26.49s/it]\n",
      "Grid Search:  26%|██▋       | 19/72 [45:18<2:00:11, 136.06s/it]"
     ]
    },
    {
     "name": "stdout",
     "output_type": "stream",
     "text": [
      "\n",
      "Kombinasi 19/72:\n",
      "  Parameters: {'kernel': 'rbf', 'C': 0.1, 'gamma': 0.1, 'max_iter': 500, 'tol': 0.0001, 'eps': 0.001}\n",
      "  Validation Accuracy: 0.4433\n",
      "  Training Time: 132.48 seconds\n",
      "Training 5 binary classifiers...\n"
     ]
    },
    {
     "name": "stderr",
     "output_type": "stream",
     "text": [
      "Training classifiers: 100%|██████████| 5/5 [02:13<00:00, 26.61s/it]\n",
      "Grid Search:  28%|██▊       | 20/72 [47:31<1:57:08, 135.17s/it]"
     ]
    },
    {
     "name": "stdout",
     "output_type": "stream",
     "text": [
      "\n",
      "Kombinasi 20/72:\n",
      "  Parameters: {'kernel': 'rbf', 'C': 0.1, 'gamma': 0.1, 'max_iter': 500, 'tol': 0.0001, 'eps': 0.0001}\n",
      "  Validation Accuracy: 0.4433\n",
      "  Training Time: 133.04 seconds\n",
      "Training 5 binary classifiers...\n"
     ]
    },
    {
     "name": "stderr",
     "output_type": "stream",
     "text": [
      "Training classifiers: 100%|██████████| 5/5 [02:13<00:00, 26.72s/it]\n",
      "Grid Search:  29%|██▉       | 21/72 [49:45<1:54:30, 134.72s/it]"
     ]
    },
    {
     "name": "stdout",
     "output_type": "stream",
     "text": [
      "\n",
      "Kombinasi 21/72:\n",
      "  Parameters: {'kernel': 'rbf', 'C': 0.1, 'gamma': 0.1, 'max_iter': 1000, 'tol': 0.001, 'eps': 0.001}\n",
      "  Validation Accuracy: 0.4433\n",
      "  Training Time: 133.60 seconds\n",
      "Training 5 binary classifiers...\n"
     ]
    },
    {
     "name": "stderr",
     "output_type": "stream",
     "text": [
      "Training classifiers: 100%|██████████| 5/5 [02:13<00:00, 26.62s/it]\n",
      "Grid Search:  31%|███       | 22/72 [51:58<1:51:52, 134.25s/it]"
     ]
    },
    {
     "name": "stdout",
     "output_type": "stream",
     "text": [
      "\n",
      "Kombinasi 22/72:\n",
      "  Parameters: {'kernel': 'rbf', 'C': 0.1, 'gamma': 0.1, 'max_iter': 1000, 'tol': 0.001, 'eps': 0.0001}\n",
      "  Validation Accuracy: 0.4433\n",
      "  Training Time: 133.10 seconds\n",
      "Training 5 binary classifiers...\n"
     ]
    },
    {
     "name": "stderr",
     "output_type": "stream",
     "text": [
      "Training classifiers: 100%|██████████| 5/5 [02:13<00:00, 26.72s/it]\n",
      "Grid Search:  32%|███▏      | 23/72 [54:12<1:49:29, 134.07s/it]"
     ]
    },
    {
     "name": "stdout",
     "output_type": "stream",
     "text": [
      "\n",
      "Kombinasi 23/72:\n",
      "  Parameters: {'kernel': 'rbf', 'C': 0.1, 'gamma': 0.1, 'max_iter': 1000, 'tol': 0.0001, 'eps': 0.001}\n",
      "  Validation Accuracy: 0.4433\n",
      "  Training Time: 133.60 seconds\n",
      "Training 5 binary classifiers...\n"
     ]
    },
    {
     "name": "stderr",
     "output_type": "stream",
     "text": [
      "Training classifiers: 100%|██████████| 5/5 [02:13<00:00, 26.78s/it]\n",
      "Grid Search:  33%|███▎      | 24/72 [56:25<1:47:13, 134.04s/it]"
     ]
    },
    {
     "name": "stdout",
     "output_type": "stream",
     "text": [
      "\n",
      "Kombinasi 24/72:\n",
      "  Parameters: {'kernel': 'rbf', 'C': 0.1, 'gamma': 0.1, 'max_iter': 1000, 'tol': 0.0001, 'eps': 0.0001}\n",
      "  Validation Accuracy: 0.4433\n",
      "  Training Time: 133.91 seconds\n",
      "Training 5 binary classifiers...\n"
     ]
    },
    {
     "name": "stderr",
     "output_type": "stream",
     "text": [
      "Training classifiers: 100%|██████████| 5/5 [02:26<00:00, 29.28s/it]\n",
      "Grid Search:  35%|███▍      | 25/72 [58:52<1:47:54, 137.75s/it]"
     ]
    },
    {
     "name": "stdout",
     "output_type": "stream",
     "text": [
      "\n",
      "Kombinasi 25/72:\n",
      "  Parameters: {'kernel': 'rbf', 'C': 1.0, 'gamma': 0.001, 'max_iter': 500, 'tol': 0.001, 'eps': 0.001}\n",
      "  Validation Accuracy: 0.1900\n",
      "  Training Time: 146.39 seconds\n",
      "Training 5 binary classifiers...\n"
     ]
    },
    {
     "name": "stderr",
     "output_type": "stream",
     "text": [
      "Training classifiers: 100%|██████████| 5/5 [02:27<00:00, 29.49s/it]\n",
      "Grid Search:  36%|███▌      | 26/72 [1:01:19<1:47:50, 140.67s/it]"
     ]
    },
    {
     "name": "stdout",
     "output_type": "stream",
     "text": [
      "\n",
      "Kombinasi 26/72:\n",
      "  Parameters: {'kernel': 'rbf', 'C': 1.0, 'gamma': 0.001, 'max_iter': 500, 'tol': 0.001, 'eps': 0.0001}\n",
      "  Validation Accuracy: 0.1900\n",
      "  Training Time: 147.46 seconds\n",
      "Training 5 binary classifiers...\n"
     ]
    },
    {
     "name": "stderr",
     "output_type": "stream",
     "text": [
      "Training classifiers: 100%|██████████| 5/5 [02:27<00:00, 29.49s/it]\n",
      "Grid Search:  38%|███▊      | 27/72 [1:03:47<1:47:02, 142.71s/it]"
     ]
    },
    {
     "name": "stdout",
     "output_type": "stream",
     "text": [
      "\n",
      "Kombinasi 27/72:\n",
      "  Parameters: {'kernel': 'rbf', 'C': 1.0, 'gamma': 0.001, 'max_iter': 500, 'tol': 0.0001, 'eps': 0.001}\n",
      "  Validation Accuracy: 0.1900\n",
      "  Training Time: 147.46 seconds\n",
      "Training 5 binary classifiers...\n"
     ]
    },
    {
     "name": "stderr",
     "output_type": "stream",
     "text": [
      "Training classifiers: 100%|██████████| 5/5 [02:28<00:00, 29.65s/it]\n",
      "Grid Search:  39%|███▉      | 28/72 [1:06:15<1:45:52, 144.38s/it]"
     ]
    },
    {
     "name": "stdout",
     "output_type": "stream",
     "text": [
      "\n",
      "Kombinasi 28/72:\n",
      "  Parameters: {'kernel': 'rbf', 'C': 1.0, 'gamma': 0.001, 'max_iter': 500, 'tol': 0.0001, 'eps': 0.0001}\n",
      "  Validation Accuracy: 0.1900\n",
      "  Training Time: 148.26 seconds\n",
      "Training 5 binary classifiers...\n"
     ]
    },
    {
     "name": "stderr",
     "output_type": "stream",
     "text": [
      "Training classifiers: 100%|██████████| 5/5 [02:27<00:00, 29.41s/it]\n",
      "Grid Search:  40%|████      | 29/72 [1:08:42<1:44:03, 145.20s/it]"
     ]
    },
    {
     "name": "stdout",
     "output_type": "stream",
     "text": [
      "\n",
      "Kombinasi 29/72:\n",
      "  Parameters: {'kernel': 'rbf', 'C': 1.0, 'gamma': 0.001, 'max_iter': 1000, 'tol': 0.001, 'eps': 0.001}\n",
      "  Validation Accuracy: 0.1900\n",
      "  Training Time: 147.07 seconds\n",
      "Training 5 binary classifiers...\n"
     ]
    },
    {
     "name": "stderr",
     "output_type": "stream",
     "text": [
      "Training classifiers: 100%|██████████| 5/5 [02:27<00:00, 29.52s/it]\n",
      "Grid Search:  42%|████▏     | 30/72 [1:11:10<1:42:08, 145.93s/it]"
     ]
    },
    {
     "name": "stdout",
     "output_type": "stream",
     "text": [
      "\n",
      "Kombinasi 30/72:\n",
      "  Parameters: {'kernel': 'rbf', 'C': 1.0, 'gamma': 0.001, 'max_iter': 1000, 'tol': 0.001, 'eps': 0.0001}\n",
      "  Validation Accuracy: 0.1900\n",
      "  Training Time: 147.61 seconds\n",
      "Training 5 binary classifiers...\n"
     ]
    },
    {
     "name": "stderr",
     "output_type": "stream",
     "text": [
      "Training classifiers: 100%|██████████| 5/5 [02:27<00:00, 29.55s/it]\n",
      "Grid Search:  43%|████▎     | 31/72 [1:13:38<1:40:05, 146.47s/it]"
     ]
    },
    {
     "name": "stdout",
     "output_type": "stream",
     "text": [
      "\n",
      "Kombinasi 31/72:\n",
      "  Parameters: {'kernel': 'rbf', 'C': 1.0, 'gamma': 0.001, 'max_iter': 1000, 'tol': 0.0001, 'eps': 0.001}\n",
      "  Validation Accuracy: 0.1900\n",
      "  Training Time: 147.73 seconds\n",
      "Training 5 binary classifiers...\n"
     ]
    },
    {
     "name": "stderr",
     "output_type": "stream",
     "text": [
      "Training classifiers: 100%|██████████| 5/5 [02:27<00:00, 29.55s/it]\n",
      "Grid Search:  44%|████▍     | 32/72 [1:16:05<1:37:54, 146.86s/it]"
     ]
    },
    {
     "name": "stdout",
     "output_type": "stream",
     "text": [
      "\n",
      "Kombinasi 32/72:\n",
      "  Parameters: {'kernel': 'rbf', 'C': 1.0, 'gamma': 0.001, 'max_iter': 1000, 'tol': 0.0001, 'eps': 0.0001}\n",
      "  Validation Accuracy: 0.1900\n",
      "  Training Time: 147.75 seconds\n",
      "Training 5 binary classifiers...\n"
     ]
    },
    {
     "name": "stderr",
     "output_type": "stream",
     "text": [
      "Training classifiers: 100%|██████████| 5/5 [02:15<00:00, 27.09s/it]\n",
      "Grid Search:  46%|████▌     | 33/72 [1:18:21<1:33:14, 143.46s/it]"
     ]
    },
    {
     "name": "stdout",
     "output_type": "stream",
     "text": [
      "\n",
      "Kombinasi 33/72:\n",
      "  Parameters: {'kernel': 'rbf', 'C': 1.0, 'gamma': 0.01, 'max_iter': 500, 'tol': 0.001, 'eps': 0.001}\n",
      "  Validation Accuracy: 0.3533\n",
      "  Training Time: 135.47 seconds\n",
      "Training 5 binary classifiers...\n"
     ]
    },
    {
     "name": "stderr",
     "output_type": "stream",
     "text": [
      "Training classifiers: 100%|██████████| 5/5 [02:15<00:00, 27.17s/it]\n",
      "Grid Search:  47%|████▋     | 34/72 [1:20:37<1:29:25, 141.19s/it]"
     ]
    },
    {
     "name": "stdout",
     "output_type": "stream",
     "text": [
      "\n",
      "Kombinasi 34/72:\n",
      "  Parameters: {'kernel': 'rbf', 'C': 1.0, 'gamma': 0.01, 'max_iter': 500, 'tol': 0.001, 'eps': 0.0001}\n",
      "  Validation Accuracy: 0.3533\n",
      "  Training Time: 135.86 seconds\n",
      "Training 5 binary classifiers...\n"
     ]
    },
    {
     "name": "stderr",
     "output_type": "stream",
     "text": [
      "Training classifiers: 100%|██████████| 5/5 [02:15<00:00, 27.13s/it]\n",
      "Grid Search:  49%|████▊     | 35/72 [1:22:52<1:26:02, 139.53s/it]"
     ]
    },
    {
     "name": "stdout",
     "output_type": "stream",
     "text": [
      "\n",
      "Kombinasi 35/72:\n",
      "  Parameters: {'kernel': 'rbf', 'C': 1.0, 'gamma': 0.01, 'max_iter': 500, 'tol': 0.0001, 'eps': 0.001}\n",
      "  Validation Accuracy: 0.3533\n",
      "  Training Time: 135.64 seconds\n",
      "Training 5 binary classifiers...\n"
     ]
    },
    {
     "name": "stderr",
     "output_type": "stream",
     "text": [
      "Training classifiers: 100%|██████████| 5/5 [02:14<00:00, 27.00s/it]\n",
      "Grid Search:  50%|█████     | 36/72 [1:25:07<1:22:54, 138.18s/it]"
     ]
    },
    {
     "name": "stdout",
     "output_type": "stream",
     "text": [
      "\n",
      "Kombinasi 36/72:\n",
      "  Parameters: {'kernel': 'rbf', 'C': 1.0, 'gamma': 0.01, 'max_iter': 500, 'tol': 0.0001, 'eps': 0.0001}\n",
      "  Validation Accuracy: 0.3533\n",
      "  Training Time: 134.98 seconds\n",
      "Training 5 binary classifiers...\n"
     ]
    },
    {
     "name": "stderr",
     "output_type": "stream",
     "text": [
      "Training classifiers: 100%|██████████| 5/5 [02:16<00:00, 27.28s/it]\n",
      "Grid Search:  51%|█████▏    | 37/72 [1:27:24<1:20:18, 137.67s/it]"
     ]
    },
    {
     "name": "stdout",
     "output_type": "stream",
     "text": [
      "\n",
      "Kombinasi 37/72:\n",
      "  Parameters: {'kernel': 'rbf', 'C': 1.0, 'gamma': 0.01, 'max_iter': 1000, 'tol': 0.001, 'eps': 0.001}\n",
      "  Validation Accuracy: 0.3533\n",
      "  Training Time: 136.42 seconds\n",
      "Training 5 binary classifiers...\n"
     ]
    },
    {
     "name": "stderr",
     "output_type": "stream",
     "text": [
      "Training classifiers: 100%|██████████| 5/5 [02:15<00:00, 27.13s/it]\n",
      "Grid Search:  53%|█████▎    | 38/72 [1:29:40<1:17:40, 137.07s/it]"
     ]
    },
    {
     "name": "stdout",
     "output_type": "stream",
     "text": [
      "\n",
      "Kombinasi 38/72:\n",
      "  Parameters: {'kernel': 'rbf', 'C': 1.0, 'gamma': 0.01, 'max_iter': 1000, 'tol': 0.001, 'eps': 0.0001}\n",
      "  Validation Accuracy: 0.3533\n",
      "  Training Time: 135.63 seconds\n",
      "Training 5 binary classifiers...\n"
     ]
    },
    {
     "name": "stderr",
     "output_type": "stream",
     "text": [
      "Training classifiers: 100%|██████████| 5/5 [02:16<00:00, 27.21s/it]\n",
      "Grid Search:  54%|█████▍    | 39/72 [1:31:56<1:15:13, 136.77s/it]"
     ]
    },
    {
     "name": "stdout",
     "output_type": "stream",
     "text": [
      "\n",
      "Kombinasi 39/72:\n",
      "  Parameters: {'kernel': 'rbf', 'C': 1.0, 'gamma': 0.01, 'max_iter': 1000, 'tol': 0.0001, 'eps': 0.001}\n",
      "  Validation Accuracy: 0.3533\n",
      "  Training Time: 136.05 seconds\n",
      "Training 5 binary classifiers...\n"
     ]
    },
    {
     "name": "stderr",
     "output_type": "stream",
     "text": [
      "Training classifiers: 100%|██████████| 5/5 [02:15<00:00, 27.12s/it]\n",
      "Grid Search:  56%|█████▌    | 40/72 [1:34:11<1:12:46, 136.44s/it]"
     ]
    },
    {
     "name": "stdout",
     "output_type": "stream",
     "text": [
      "\n",
      "Kombinasi 40/72:\n",
      "  Parameters: {'kernel': 'rbf', 'C': 1.0, 'gamma': 0.01, 'max_iter': 1000, 'tol': 0.0001, 'eps': 0.0001}\n",
      "  Validation Accuracy: 0.3533\n",
      "  Training Time: 135.62 seconds\n",
      "Training 5 binary classifiers...\n"
     ]
    },
    {
     "name": "stderr",
     "output_type": "stream",
     "text": [
      "Training classifiers: 100%|██████████| 5/5 [01:51<00:00, 22.25s/it]\n",
      "Grid Search:  57%|█████▋    | 41/72 [1:36:03<1:06:36, 128.91s/it]"
     ]
    },
    {
     "name": "stdout",
     "output_type": "stream",
     "text": [
      "\n",
      "Kombinasi 41/72:\n",
      "  Parameters: {'kernel': 'rbf', 'C': 1.0, 'gamma': 0.1, 'max_iter': 500, 'tol': 0.001, 'eps': 0.001}\n",
      "  Validation Accuracy: 0.4600\n",
      "  Training Time: 111.27 seconds\n",
      "Training 5 binary classifiers...\n"
     ]
    },
    {
     "name": "stderr",
     "output_type": "stream",
     "text": [
      "Training classifiers: 100%|██████████| 5/5 [01:51<00:00, 22.24s/it]\n",
      "Grid Search:  58%|█████▊    | 42/72 [1:37:54<1:01:48, 123.61s/it]"
     ]
    },
    {
     "name": "stdout",
     "output_type": "stream",
     "text": [
      "\n",
      "Kombinasi 42/72:\n",
      "  Parameters: {'kernel': 'rbf', 'C': 1.0, 'gamma': 0.1, 'max_iter': 500, 'tol': 0.001, 'eps': 0.0001}\n",
      "  Validation Accuracy: 0.4600\n",
      "  Training Time: 111.18 seconds\n",
      "Training 5 binary classifiers...\n"
     ]
    },
    {
     "name": "stderr",
     "output_type": "stream",
     "text": [
      "Training classifiers: 100%|██████████| 5/5 [01:52<00:00, 22.53s/it]\n",
      "Grid Search:  60%|█████▉    | 43/72 [1:39:47<58:09, 120.34s/it]  "
     ]
    },
    {
     "name": "stdout",
     "output_type": "stream",
     "text": [
      "\n",
      "Kombinasi 43/72:\n",
      "  Parameters: {'kernel': 'rbf', 'C': 1.0, 'gamma': 0.1, 'max_iter': 500, 'tol': 0.0001, 'eps': 0.001}\n",
      "  Validation Accuracy: 0.4600\n",
      "  Training Time: 112.67 seconds\n",
      "Training 5 binary classifiers...\n"
     ]
    },
    {
     "name": "stderr",
     "output_type": "stream",
     "text": [
      "Training classifiers: 100%|██████████| 5/5 [01:51<00:00, 22.39s/it]\n",
      "Grid Search:  61%|██████    | 44/72 [1:41:39<54:59, 117.84s/it]"
     ]
    },
    {
     "name": "stdout",
     "output_type": "stream",
     "text": [
      "\n",
      "Kombinasi 44/72:\n",
      "  Parameters: {'kernel': 'rbf', 'C': 1.0, 'gamma': 0.1, 'max_iter': 500, 'tol': 0.0001, 'eps': 0.0001}\n",
      "  Validation Accuracy: 0.4600\n",
      "  Training Time: 111.95 seconds\n",
      "Training 5 binary classifiers...\n"
     ]
    },
    {
     "name": "stderr",
     "output_type": "stream",
     "text": [
      "Training classifiers: 100%|██████████| 5/5 [01:50<00:00, 22.16s/it]\n",
      "Grid Search:  62%|██████▎   | 45/72 [1:43:29<52:05, 115.74s/it]"
     ]
    },
    {
     "name": "stdout",
     "output_type": "stream",
     "text": [
      "\n",
      "Kombinasi 45/72:\n",
      "  Parameters: {'kernel': 'rbf', 'C': 1.0, 'gamma': 0.1, 'max_iter': 1000, 'tol': 0.001, 'eps': 0.001}\n",
      "  Validation Accuracy: 0.4600\n",
      "  Training Time: 110.79 seconds\n",
      "Training 5 binary classifiers...\n"
     ]
    },
    {
     "name": "stderr",
     "output_type": "stream",
     "text": [
      "Training classifiers: 100%|██████████| 5/5 [01:50<00:00, 22.20s/it]\n",
      "Grid Search:  64%|██████▍   | 46/72 [1:45:21<49:32, 114.33s/it]"
     ]
    },
    {
     "name": "stdout",
     "output_type": "stream",
     "text": [
      "\n",
      "Kombinasi 46/72:\n",
      "  Parameters: {'kernel': 'rbf', 'C': 1.0, 'gamma': 0.1, 'max_iter': 1000, 'tol': 0.001, 'eps': 0.0001}\n",
      "  Validation Accuracy: 0.4600\n",
      "  Training Time: 111.00 seconds\n",
      "Training 5 binary classifiers...\n"
     ]
    },
    {
     "name": "stderr",
     "output_type": "stream",
     "text": [
      "Training classifiers: 100%|██████████| 5/5 [01:50<00:00, 22.18s/it]\n",
      "Grid Search:  65%|██████▌   | 47/72 [1:47:12<47:13, 113.33s/it]"
     ]
    },
    {
     "name": "stdout",
     "output_type": "stream",
     "text": [
      "\n",
      "Kombinasi 47/72:\n",
      "  Parameters: {'kernel': 'rbf', 'C': 1.0, 'gamma': 0.1, 'max_iter': 1000, 'tol': 0.0001, 'eps': 0.001}\n",
      "  Validation Accuracy: 0.4600\n",
      "  Training Time: 110.92 seconds\n",
      "Training 5 binary classifiers...\n"
     ]
    },
    {
     "name": "stderr",
     "output_type": "stream",
     "text": [
      "Training classifiers: 100%|██████████| 5/5 [01:50<00:00, 22.18s/it]\n",
      "Grid Search:  67%|██████▋   | 48/72 [1:49:03<45:02, 112.62s/it]"
     ]
    },
    {
     "name": "stdout",
     "output_type": "stream",
     "text": [
      "\n",
      "Kombinasi 48/72:\n",
      "  Parameters: {'kernel': 'rbf', 'C': 1.0, 'gamma': 0.1, 'max_iter': 1000, 'tol': 0.0001, 'eps': 0.0001}\n",
      "  Validation Accuracy: 0.4600\n",
      "  Training Time: 110.92 seconds\n",
      "Training 5 binary classifiers...\n"
     ]
    },
    {
     "name": "stderr",
     "output_type": "stream",
     "text": [
      "Training classifiers: 100%|██████████| 5/5 [02:17<00:00, 27.42s/it]\n",
      "Grid Search:  68%|██████▊   | 49/72 [1:51:20<45:59, 119.97s/it]"
     ]
    },
    {
     "name": "stdout",
     "output_type": "stream",
     "text": [
      "\n",
      "Kombinasi 49/72:\n",
      "  Parameters: {'kernel': 'rbf', 'C': 10.0, 'gamma': 0.001, 'max_iter': 500, 'tol': 0.001, 'eps': 0.001}\n",
      "  Validation Accuracy: 0.2867\n",
      "  Training Time: 137.09 seconds\n",
      "Training 5 binary classifiers...\n"
     ]
    },
    {
     "name": "stderr",
     "output_type": "stream",
     "text": [
      "Training classifiers: 100%|██████████| 5/5 [02:17<00:00, 27.53s/it]\n",
      "Grid Search:  69%|██████▉   | 50/72 [1:53:37<45:56, 125.28s/it]"
     ]
    },
    {
     "name": "stdout",
     "output_type": "stream",
     "text": [
      "\n",
      "Kombinasi 50/72:\n",
      "  Parameters: {'kernel': 'rbf', 'C': 10.0, 'gamma': 0.001, 'max_iter': 500, 'tol': 0.001, 'eps': 0.0001}\n",
      "  Validation Accuracy: 0.2867\n",
      "  Training Time: 137.65 seconds\n",
      "Training 5 binary classifiers...\n"
     ]
    },
    {
     "name": "stderr",
     "output_type": "stream",
     "text": [
      "Training classifiers: 100%|██████████| 5/5 [02:16<00:00, 27.40s/it]\n",
      "Grid Search:  71%|███████   | 51/72 [1:55:54<45:04, 128.79s/it]"
     ]
    },
    {
     "name": "stdout",
     "output_type": "stream",
     "text": [
      "\n",
      "Kombinasi 51/72:\n",
      "  Parameters: {'kernel': 'rbf', 'C': 10.0, 'gamma': 0.001, 'max_iter': 500, 'tol': 0.0001, 'eps': 0.001}\n",
      "  Validation Accuracy: 0.2867\n",
      "  Training Time: 136.99 seconds\n",
      "Training 5 binary classifiers...\n"
     ]
    },
    {
     "name": "stderr",
     "output_type": "stream",
     "text": [
      "Training classifiers: 100%|██████████| 5/5 [02:18<00:00, 27.64s/it]\n",
      "Grid Search:  72%|███████▏  | 52/72 [1:58:13<43:52, 131.63s/it]"
     ]
    },
    {
     "name": "stdout",
     "output_type": "stream",
     "text": [
      "\n",
      "Kombinasi 52/72:\n",
      "  Parameters: {'kernel': 'rbf', 'C': 10.0, 'gamma': 0.001, 'max_iter': 500, 'tol': 0.0001, 'eps': 0.0001}\n",
      "  Validation Accuracy: 0.2867\n",
      "  Training Time: 138.23 seconds\n",
      "Training 5 binary classifiers...\n"
     ]
    },
    {
     "name": "stderr",
     "output_type": "stream",
     "text": [
      "Training classifiers: 100%|██████████| 5/5 [02:17<00:00, 27.59s/it]\n",
      "Grid Search:  74%|███████▎  | 53/72 [2:00:30<42:17, 133.53s/it]"
     ]
    },
    {
     "name": "stdout",
     "output_type": "stream",
     "text": [
      "\n",
      "Kombinasi 53/72:\n",
      "  Parameters: {'kernel': 'rbf', 'C': 10.0, 'gamma': 0.001, 'max_iter': 1000, 'tol': 0.001, 'eps': 0.001}\n",
      "  Validation Accuracy: 0.2867\n",
      "  Training Time: 137.94 seconds\n",
      "Training 5 binary classifiers...\n"
     ]
    },
    {
     "name": "stderr",
     "output_type": "stream",
     "text": [
      "Training classifiers: 100%|██████████| 5/5 [02:17<00:00, 27.52s/it]\n",
      "Grid Search:  75%|███████▌  | 54/72 [2:02:48<40:25, 134.75s/it]"
     ]
    },
    {
     "name": "stdout",
     "output_type": "stream",
     "text": [
      "\n",
      "Kombinasi 54/72:\n",
      "  Parameters: {'kernel': 'rbf', 'C': 10.0, 'gamma': 0.001, 'max_iter': 1000, 'tol': 0.001, 'eps': 0.0001}\n",
      "  Validation Accuracy: 0.2867\n",
      "  Training Time: 137.59 seconds\n",
      "Training 5 binary classifiers...\n"
     ]
    },
    {
     "name": "stderr",
     "output_type": "stream",
     "text": [
      "Training classifiers: 100%|██████████| 5/5 [02:17<00:00, 27.48s/it]\n",
      "Grid Search:  76%|███████▋  | 55/72 [2:05:06<38:24, 135.56s/it]"
     ]
    },
    {
     "name": "stdout",
     "output_type": "stream",
     "text": [
      "\n",
      "Kombinasi 55/72:\n",
      "  Parameters: {'kernel': 'rbf', 'C': 10.0, 'gamma': 0.001, 'max_iter': 1000, 'tol': 0.0001, 'eps': 0.001}\n",
      "  Validation Accuracy: 0.2867\n",
      "  Training Time: 137.42 seconds\n",
      "Training 5 binary classifiers...\n"
     ]
    },
    {
     "name": "stderr",
     "output_type": "stream",
     "text": [
      "Training classifiers: 100%|██████████| 5/5 [02:17<00:00, 27.54s/it]\n",
      "Grid Search:  78%|███████▊  | 56/72 [2:07:23<36:19, 136.20s/it]"
     ]
    },
    {
     "name": "stdout",
     "output_type": "stream",
     "text": [
      "\n",
      "Kombinasi 56/72:\n",
      "  Parameters: {'kernel': 'rbf', 'C': 10.0, 'gamma': 0.001, 'max_iter': 1000, 'tol': 0.0001, 'eps': 0.0001}\n",
      "  Validation Accuracy: 0.2867\n",
      "  Training Time: 137.69 seconds\n",
      "Training 5 binary classifiers...\n"
     ]
    },
    {
     "name": "stderr",
     "output_type": "stream",
     "text": [
      "Training classifiers: 100%|██████████| 5/5 [02:09<00:00, 25.99s/it]\n",
      "Grid Search:  79%|███████▉  | 57/72 [2:09:33<33:35, 134.35s/it]"
     ]
    },
    {
     "name": "stdout",
     "output_type": "stream",
     "text": [
      "\n",
      "Kombinasi 57/72:\n",
      "  Parameters: {'kernel': 'rbf', 'C': 10.0, 'gamma': 0.01, 'max_iter': 500, 'tol': 0.001, 'eps': 0.001}\n",
      "  Validation Accuracy: 0.3600\n",
      "  Training Time: 129.93 seconds\n",
      "Training 5 binary classifiers...\n"
     ]
    },
    {
     "name": "stderr",
     "output_type": "stream",
     "text": [
      "Training classifiers: 100%|██████████| 5/5 [02:12<00:00, 26.48s/it]\n",
      "Grid Search:  81%|████████  | 58/72 [2:11:46<31:13, 133.79s/it]"
     ]
    },
    {
     "name": "stdout",
     "output_type": "stream",
     "text": [
      "\n",
      "Kombinasi 58/72:\n",
      "  Parameters: {'kernel': 'rbf', 'C': 10.0, 'gamma': 0.01, 'max_iter': 500, 'tol': 0.001, 'eps': 0.0001}\n",
      "  Validation Accuracy: 0.3600\n",
      "  Training Time: 132.40 seconds\n",
      "Training 5 binary classifiers...\n"
     ]
    },
    {
     "name": "stderr",
     "output_type": "stream",
     "text": [
      "Training classifiers: 100%|██████████| 5/5 [02:08<00:00, 25.80s/it]\n",
      "Grid Search:  82%|████████▏ | 59/72 [2:13:55<28:40, 132.37s/it]"
     ]
    },
    {
     "name": "stdout",
     "output_type": "stream",
     "text": [
      "\n",
      "Kombinasi 59/72:\n",
      "  Parameters: {'kernel': 'rbf', 'C': 10.0, 'gamma': 0.01, 'max_iter': 500, 'tol': 0.0001, 'eps': 0.001}\n",
      "  Validation Accuracy: 0.3600\n",
      "  Training Time: 128.98 seconds\n",
      "Training 5 binary classifiers...\n"
     ]
    },
    {
     "name": "stderr",
     "output_type": "stream",
     "text": [
      "Training classifiers: 100%|██████████| 5/5 [02:08<00:00, 25.69s/it]\n",
      "Grid Search:  83%|████████▎ | 60/72 [2:16:03<26:14, 131.21s/it]"
     ]
    },
    {
     "name": "stdout",
     "output_type": "stream",
     "text": [
      "\n",
      "Kombinasi 60/72:\n",
      "  Parameters: {'kernel': 'rbf', 'C': 10.0, 'gamma': 0.01, 'max_iter': 500, 'tol': 0.0001, 'eps': 0.0001}\n",
      "  Validation Accuracy: 0.3600\n",
      "  Training Time: 128.44 seconds\n",
      "Training 5 binary classifiers...\n"
     ]
    },
    {
     "name": "stderr",
     "output_type": "stream",
     "text": [
      "Training classifiers: 100%|██████████| 5/5 [02:09<00:00, 25.85s/it]\n",
      "Grid Search:  85%|████████▍ | 61/72 [2:18:13<23:57, 130.65s/it]"
     ]
    },
    {
     "name": "stdout",
     "output_type": "stream",
     "text": [
      "\n",
      "Kombinasi 61/72:\n",
      "  Parameters: {'kernel': 'rbf', 'C': 10.0, 'gamma': 0.01, 'max_iter': 1000, 'tol': 0.001, 'eps': 0.001}\n",
      "  Validation Accuracy: 0.3600\n",
      "  Training Time: 129.27 seconds\n",
      "Training 5 binary classifiers...\n"
     ]
    },
    {
     "name": "stderr",
     "output_type": "stream",
     "text": [
      "Training classifiers: 100%|██████████| 5/5 [02:08<00:00, 25.61s/it]\n",
      "Grid Search:  86%|████████▌ | 62/72 [2:20:21<21:38, 129.89s/it]"
     ]
    },
    {
     "name": "stdout",
     "output_type": "stream",
     "text": [
      "\n",
      "Kombinasi 62/72:\n",
      "  Parameters: {'kernel': 'rbf', 'C': 10.0, 'gamma': 0.01, 'max_iter': 1000, 'tol': 0.001, 'eps': 0.0001}\n",
      "  Validation Accuracy: 0.3600\n",
      "  Training Time: 128.04 seconds\n",
      "Training 5 binary classifiers...\n"
     ]
    },
    {
     "name": "stderr",
     "output_type": "stream",
     "text": [
      "Training classifiers: 100%|██████████| 5/5 [02:08<00:00, 25.71s/it]\n",
      "Grid Search:  88%|████████▊ | 63/72 [2:22:29<19:25, 129.53s/it]"
     ]
    },
    {
     "name": "stdout",
     "output_type": "stream",
     "text": [
      "\n",
      "Kombinasi 63/72:\n",
      "  Parameters: {'kernel': 'rbf', 'C': 10.0, 'gamma': 0.01, 'max_iter': 1000, 'tol': 0.0001, 'eps': 0.001}\n",
      "  Validation Accuracy: 0.3600\n",
      "  Training Time: 128.57 seconds\n",
      "Training 5 binary classifiers...\n"
     ]
    },
    {
     "name": "stderr",
     "output_type": "stream",
     "text": [
      "Training classifiers: 100%|██████████| 5/5 [02:07<00:00, 25.59s/it]\n",
      "Grid Search:  89%|████████▉ | 64/72 [2:24:37<17:12, 129.08s/it]"
     ]
    },
    {
     "name": "stdout",
     "output_type": "stream",
     "text": [
      "\n",
      "Kombinasi 64/72:\n",
      "  Parameters: {'kernel': 'rbf', 'C': 10.0, 'gamma': 0.01, 'max_iter': 1000, 'tol': 0.0001, 'eps': 0.0001}\n",
      "  Validation Accuracy: 0.3600\n",
      "  Training Time: 127.95 seconds\n",
      "Training 5 binary classifiers...\n"
     ]
    },
    {
     "name": "stderr",
     "output_type": "stream",
     "text": [
      "Training classifiers: 100%|██████████| 5/5 [02:22<00:00, 28.47s/it]\n",
      "Grid Search:  90%|█████████ | 65/72 [2:27:00<15:31, 133.10s/it]"
     ]
    },
    {
     "name": "stdout",
     "output_type": "stream",
     "text": [
      "\n",
      "Kombinasi 65/72:\n",
      "  Parameters: {'kernel': 'rbf', 'C': 10.0, 'gamma': 0.1, 'max_iter': 500, 'tol': 0.001, 'eps': 0.001}\n",
      "  Validation Accuracy: 0.8267\n",
      "  Training Time: 142.37 seconds\n",
      "Training 5 binary classifiers...\n"
     ]
    },
    {
     "name": "stderr",
     "output_type": "stream",
     "text": [
      "Training classifiers: 100%|██████████| 5/5 [02:20<00:00, 28.11s/it]\n",
      "Grid Search:  92%|█████████▏| 66/72 [2:29:21<13:32, 135.38s/it]"
     ]
    },
    {
     "name": "stdout",
     "output_type": "stream",
     "text": [
      "\n",
      "Kombinasi 66/72:\n",
      "  Parameters: {'kernel': 'rbf', 'C': 10.0, 'gamma': 0.1, 'max_iter': 500, 'tol': 0.001, 'eps': 0.0001}\n",
      "  Validation Accuracy: 0.8267\n",
      "  Training Time: 140.56 seconds\n",
      "Training 5 binary classifiers...\n"
     ]
    },
    {
     "name": "stderr",
     "output_type": "stream",
     "text": [
      "Training classifiers: 100%|██████████| 5/5 [02:23<00:00, 28.66s/it]\n",
      "Grid Search:  93%|█████████▎| 67/72 [2:31:44<11:28, 137.79s/it]"
     ]
    },
    {
     "name": "stdout",
     "output_type": "stream",
     "text": [
      "\n",
      "Kombinasi 67/72:\n",
      "  Parameters: {'kernel': 'rbf', 'C': 10.0, 'gamma': 0.1, 'max_iter': 500, 'tol': 0.0001, 'eps': 0.001}\n",
      "  Validation Accuracy: 0.8100\n",
      "  Training Time: 143.29 seconds\n",
      "Training 5 binary classifiers...\n"
     ]
    },
    {
     "name": "stderr",
     "output_type": "stream",
     "text": [
      "Training classifiers: 100%|██████████| 5/5 [02:23<00:00, 28.66s/it]\n",
      "Grid Search:  94%|█████████▍| 68/72 [2:34:08<09:17, 139.49s/it]"
     ]
    },
    {
     "name": "stdout",
     "output_type": "stream",
     "text": [
      "\n",
      "Kombinasi 68/72:\n",
      "  Parameters: {'kernel': 'rbf', 'C': 10.0, 'gamma': 0.1, 'max_iter': 500, 'tol': 0.0001, 'eps': 0.0001}\n",
      "  Validation Accuracy: 0.8100\n",
      "  Training Time: 143.32 seconds\n",
      "Training 5 binary classifiers...\n"
     ]
    },
    {
     "name": "stderr",
     "output_type": "stream",
     "text": [
      "Training classifiers: 100%|██████████| 5/5 [02:20<00:00, 28.19s/it]\n",
      "Grid Search:  96%|█████████▌| 69/72 [2:36:29<06:59, 139.97s/it]"
     ]
    },
    {
     "name": "stdout",
     "output_type": "stream",
     "text": [
      "\n",
      "Kombinasi 69/72:\n",
      "  Parameters: {'kernel': 'rbf', 'C': 10.0, 'gamma': 0.1, 'max_iter': 1000, 'tol': 0.001, 'eps': 0.001}\n",
      "  Validation Accuracy: 0.8267\n",
      "  Training Time: 140.95 seconds\n",
      "Training 5 binary classifiers...\n"
     ]
    },
    {
     "name": "stderr",
     "output_type": "stream",
     "text": [
      "Training classifiers: 100%|██████████| 5/5 [02:22<00:00, 28.43s/it]\n",
      "Grid Search:  97%|█████████▋| 70/72 [2:38:51<04:41, 140.66s/it]"
     ]
    },
    {
     "name": "stdout",
     "output_type": "stream",
     "text": [
      "\n",
      "Kombinasi 70/72:\n",
      "  Parameters: {'kernel': 'rbf', 'C': 10.0, 'gamma': 0.1, 'max_iter': 1000, 'tol': 0.001, 'eps': 0.0001}\n",
      "  Validation Accuracy: 0.8267\n",
      "  Training Time: 142.13 seconds\n",
      "Training 5 binary classifiers...\n"
     ]
    },
    {
     "name": "stderr",
     "output_type": "stream",
     "text": [
      "Training classifiers: 100%|██████████| 5/5 [02:22<00:00, 28.57s/it]\n",
      "Grid Search:  99%|█████████▊| 71/72 [2:41:14<02:21, 141.36s/it]"
     ]
    },
    {
     "name": "stdout",
     "output_type": "stream",
     "text": [
      "\n",
      "Kombinasi 71/72:\n",
      "  Parameters: {'kernel': 'rbf', 'C': 10.0, 'gamma': 0.1, 'max_iter': 1000, 'tol': 0.0001, 'eps': 0.001}\n",
      "  Validation Accuracy: 0.8100\n",
      "  Training Time: 142.87 seconds\n",
      "Training 5 binary classifiers...\n"
     ]
    },
    {
     "name": "stderr",
     "output_type": "stream",
     "text": [
      "Training classifiers: 100%|██████████| 5/5 [02:24<00:00, 28.97s/it]\n",
      "Grid Search: 100%|██████████| 72/72 [2:43:39<00:00, 136.38s/it]"
     ]
    },
    {
     "name": "stdout",
     "output_type": "stream",
     "text": [
      "\n",
      "Kombinasi 72/72:\n",
      "  Parameters: {'kernel': 'rbf', 'C': 10.0, 'gamma': 0.1, 'max_iter': 1000, 'tol': 0.0001, 'eps': 0.0001}\n",
      "  Validation Accuracy: 0.8100\n",
      "  Training Time: 144.87 seconds\n",
      "\n",
      "================================================================================\n",
      "HASIL GRID SEARCH:\n",
      "Best Validation Accuracy: 0.8267\n",
      "Best Parameters: {'kernel': 'rbf', 'C': 10.0, 'gamma': 0.1, 'max_iter': 500, 'tol': 0.001, 'eps': 0.001}\n",
      "================================================================================\n"
     ]
    },
    {
     "name": "stderr",
     "output_type": "stream",
     "text": [
      "\n"
     ]
    }
   ],
   "source": [
    "print(\"=\" * 80)\n",
    "print(\"GRID SEARCH - RBF KERNEL\")\n",
    "print(\"=\" * 80)\n",
    "\n",
    "best_rbf_model, best_rbf_params, best_rbf_score, rbf_results = grid_search_svm(\n",
    "    X_train, y_train, X_val, y_val, rbf_param_grid\n",
    ")"
   ]
  },
  {
   "cell_type": "markdown",
   "metadata": {},
   "source": [
    "### 5.5 Select Best Overall Model"
   ]
  },
  {
   "cell_type": "code",
   "execution_count": 12,
   "metadata": {},
   "outputs": [
    {
     "name": "stdout",
     "output_type": "stream",
     "text": [
      "================================================================================\n",
      "BEST MODEL OVERALL\n",
      "================================================================================\n",
      "Best Kernel Type: RBF\n",
      "Best Validation Accuracy: 0.8267\n",
      "Best Parameters:\n",
      "  kernel: rbf\n",
      "  C: 10.0\n",
      "  gamma: 0.1\n",
      "  max_iter: 500\n",
      "  tol: 0.001\n",
      "  eps: 0.001\n",
      "================================================================================\n"
     ]
    }
   ],
   "source": [
    "# Pilih best model secara keseluruhan\n",
    "if best_linear_score > best_rbf_score:\n",
    "    best_overall_model = best_linear_model\n",
    "    best_overall_params = best_linear_params\n",
    "    best_overall_score = best_linear_score\n",
    "    best_kernel_type = \"Linear\"\n",
    "else:\n",
    "    best_overall_model = best_rbf_model\n",
    "    best_overall_params = best_rbf_params\n",
    "    best_overall_score = best_rbf_score\n",
    "    best_kernel_type = \"RBF\"\n",
    "\n",
    "print(\"=\" * 80)\n",
    "print(\"BEST MODEL OVERALL\")\n",
    "print(\"=\" * 80)\n",
    "print(f\"Best Kernel Type: {best_kernel_type}\")\n",
    "print(f\"Best Validation Accuracy: {best_overall_score:.4f}\")\n",
    "print(f\"Best Parameters:\")\n",
    "for param, value in best_overall_params.items():\n",
    "    print(f\"  {param}: {value}\")\n",
    "print(\"=\" * 80)"
   ]
  },
  {
   "cell_type": "markdown",
   "metadata": {},
   "source": [
    "## 6. Model Training & Evaluation\n",
    "\n",
    "### 6.1 Train Final Model"
   ]
  },
  {
   "cell_type": "code",
   "execution_count": 13,
   "metadata": {},
   "outputs": [
    {
     "name": "stdout",
     "output_type": "stream",
     "text": [
      "\n",
      "6. TRAINING FINAL MODEL...\n",
      "Training final model dengan best parameters...\n",
      "Training 5 binary classifiers...\n"
     ]
    },
    {
     "name": "stderr",
     "output_type": "stream",
     "text": [
      "Training classifiers: 100%|██████████| 5/5 [02:21<00:00, 28.36s/it]"
     ]
    },
    {
     "name": "stdout",
     "output_type": "stream",
     "text": [
      "Training selesai dalam 141.81 detik\n",
      "Validation Accuracy: 0.8267\n"
     ]
    },
    {
     "name": "stderr",
     "output_type": "stream",
     "text": [
      "\n"
     ]
    }
   ],
   "source": [
    "print(\"\\n6. TRAINING FINAL MODEL...\")\n",
    "\n",
    "print(\"Training final model dengan best parameters...\")\n",
    "\n",
    "# Training ulang model dengan best parameters pada data training\n",
    "final_model = OneVsRestSVM(**best_overall_params)\n",
    "\n",
    "start_time = time.time()\n",
    "final_model.fit(X_train, y_train)\n",
    "final_train_time = time.time() - start_time\n",
    "\n",
    "print(f\"Training selesai dalam {final_train_time:.2f} detik\")\n",
    "\n",
    "# Evaluasi pada validation set\n",
    "y_val_pred = final_model.predict(X_val)\n",
    "val_accuracy = accuracy_score(y_val, y_val_pred)\n",
    "\n",
    "print(f\"Validation Accuracy: {val_accuracy:.4f}\")"
   ]
  },
  {
   "cell_type": "markdown",
   "metadata": {},
   "source": [
    "### 6.2 Test Set Evaluation"
   ]
  },
  {
   "cell_type": "code",
   "execution_count": 14,
   "metadata": {},
   "outputs": [
    {
     "name": "stdout",
     "output_type": "stream",
     "text": [
      "\n",
      "7. EVALUASI FINAL PADA TEST SET...\n",
      "================================================================================\n",
      "EVALUASI FINAL PADA TEST SET\n",
      "================================================================================\n",
      "Test Accuracy: 0.8233\n",
      "Prediction Time: 0.1225 seconds\n",
      "Prediction Speed: 2449.78 samples/second\n"
     ]
    }
   ],
   "source": [
    "print(\"\\n7. EVALUASI FINAL PADA TEST SET...\")\n",
    "print(\"=\" * 80)\n",
    "print(\"EVALUASI FINAL PADA TEST SET\")\n",
    "print(\"=\" * 80)\n",
    "\n",
    "# Prediksi pada test set\n",
    "start_time = time.time()\n",
    "y_test_pred = final_model.predict(X_test)\n",
    "prediction_time = time.time() - start_time\n",
    "\n",
    "# Hitung akurasi test\n",
    "test_accuracy = accuracy_score(y_test, y_test_pred)\n",
    "\n",
    "print(f\"Test Accuracy: {test_accuracy:.4f}\")\n",
    "print(f\"Prediction Time: {prediction_time:.4f} seconds\")\n",
    "print(f\"Prediction Speed: {len(y_test)/prediction_time:.2f} samples/second\")"
   ]
  },
  {
   "cell_type": "markdown",
   "metadata": {},
   "source": [
    "### 6.3 Classification Report"
   ]
  },
  {
   "cell_type": "code",
   "execution_count": 15,
   "metadata": {},
   "outputs": [
    {
     "name": "stdout",
     "output_type": "stream",
     "text": [
      "\n",
      "CLASSIFICATION REPORT:\n",
      "==================================================\n",
      "              precision    recall  f1-score   support\n",
      "\n",
      "  belly_pain       0.74      0.93      0.82        60\n",
      "     burping       0.84      0.97      0.90        60\n",
      "  discomfort       0.81      0.87      0.84        60\n",
      "      hungry       0.92      0.73      0.81        60\n",
      "       tired       0.86      0.62      0.72        60\n",
      "\n",
      "    accuracy                           0.82       300\n",
      "   macro avg       0.83      0.82      0.82       300\n",
      "weighted avg       0.83      0.82      0.82       300\n",
      "\n",
      "\n",
      "METRIK PER KELAS:\n",
      "==================================================\n",
      "belly_pain:\n",
      "  Precision: 0.7368\n",
      "  Recall: 0.9333\n",
      "  F1-score: 0.8235\n",
      "  Support: 60\n",
      "\n",
      "burping:\n",
      "  Precision: 0.8406\n",
      "  Recall: 0.9667\n",
      "  F1-score: 0.8992\n",
      "  Support: 60\n",
      "\n",
      "discomfort:\n",
      "  Precision: 0.8125\n",
      "  Recall: 0.8667\n",
      "  F1-score: 0.8387\n",
      "  Support: 60\n",
      "\n",
      "hungry:\n",
      "  Precision: 0.9167\n",
      "  Recall: 0.7333\n",
      "  F1-score: 0.8148\n",
      "  Support: 60\n",
      "\n",
      "tired:\n",
      "  Precision: 0.8605\n",
      "  Recall: 0.6167\n",
      "  F1-score: 0.7184\n",
      "  Support: 60\n",
      "\n"
     ]
    }
   ],
   "source": [
    "# Classification report\n",
    "print(\"\\nCLASSIFICATION REPORT:\")\n",
    "print(\"=\" * 50)\n",
    "report = classification_report(y_test, y_test_pred, target_names=label_mapping, zero_division=0)\n",
    "print(report)\n",
    "\n",
    "# Classification report dalam bentuk dictionary untuk analisis lebih lanjut\n",
    "report_dict = classification_report(y_test, y_test_pred, target_names=label_mapping, \n",
    "                                   output_dict=True, zero_division=0)\n",
    "\n",
    "# Tampilkan metrik per kelas\n",
    "print(\"\\nMETRIK PER KELAS:\")\n",
    "print(\"=\" * 50)\n",
    "for i, class_name in enumerate(label_mapping):\n",
    "    if class_name in report_dict:\n",
    "        metrics = report_dict[class_name]\n",
    "        print(f\"{class_name}:\")\n",
    "        print(f\"  Precision: {metrics['precision']:.4f}\")\n",
    "        print(f\"  Recall: {metrics['recall']:.4f}\")\n",
    "        print(f\"  F1-score: {metrics['f1-score']:.4f}\")\n",
    "        print(f\"  Support: {int(metrics['support'])}\")\n",
    "        print()"
   ]
  },
  {
   "cell_type": "markdown",
   "metadata": {},
   "source": [
    "### 6.4 Confusion Matrix"
   ]
  },
  {
   "cell_type": "code",
   "execution_count": 16,
   "metadata": {},
   "outputs": [
    {
     "data": {
      "image/png": "[encoded data removed]",
      "text/plain": [
       "<Figure size 1000x800 with 2 Axes>"
      ]
     },
     "metadata": {},
     "output_type": "display_data"
    },
    {
     "name": "stdout",
     "output_type": "stream",
     "text": [
      "\n",
      "CONFUSION MATRIX:\n",
      "==================================================\n",
      "            belly_pain  burping  discomfort  hungry  tired\n",
      "belly_pain          56        4           0       0      0\n",
      "burping              1       58           1       0      0\n",
      "discomfort           3        2          52       1      2\n",
      "hungry               7        3           2      44      4\n",
      "tired                9        2           9       3     37\n",
      "\n",
      "AKURASI PER KELAS:\n",
      "==================================================\n",
      "belly_pain: 0.9333 (56/60)\n",
      "burping: 0.9667 (58/60)\n",
      "discomfort: 0.8667 (52/60)\n",
      "hungry: 0.7333 (44/60)\n",
      "tired: 0.6167 (37/60)\n"
     ]
    }
   ],
   "source": [
    "# Confusion Matrix\n",
    "cm = confusion_matrix(y_test, y_test_pred)\n",
    "\n",
    "# Plot confusion matrix\n",
    "plt.figure(figsize=(10, 8))\n",
    "sns.heatmap(cm, annot=True, fmt='d', cmap='Blues', \n",
    "            xticklabels=label_mapping, yticklabels=label_mapping)\n",
    "plt.title('Confusion Matrix - SVM Test Set')\n",
    "plt.xlabel('Predicted Label')\n",
    "plt.ylabel('True Label')\n",
    "plt.xticks(rotation=45)\n",
    "plt.yticks(rotation=0)\n",
    "plt.tight_layout()\n",
    "plt.show()\n",
    "\n",
    "# Tampilkan confusion matrix dalam bentuk tabel\n",
    "print(\"\\nCONFUSION MATRIX:\")\n",
    "print(\"=\" * 50)\n",
    "cm_df = pd.DataFrame(cm, index=label_mapping, columns=label_mapping)\n",
    "print(cm_df)\n",
    "\n",
    "# Hitung dan tampilkan akurasi per kelas\n",
    "print(\"\\nAKURASI PER KELAS:\")\n",
    "print(\"=\" * 50)\n",
    "class_accuracies = cm.diagonal() / cm.sum(axis=1)\n",
    "for i, class_name in enumerate(label_mapping):\n",
    "    print(f\"{class_name}: {class_accuracies[i]:.4f} ({cm.diagonal()[i]}/{cm.sum(axis=1)[i]})\")"
   ]
  },
  {
   "cell_type": "markdown",
   "metadata": {},
   "source": [
    "## 7. Results Analysis\n",
    "\n",
    "### 7.1 Model Summary"
   ]
  },
  {
   "cell_type": "code",
   "execution_count": 17,
   "metadata": {},
   "outputs": [
    {
     "name": "stdout",
     "output_type": "stream",
     "text": [
      "\n",
      "8. ANALISIS RESULTS...\n",
      "================================================================================\n",
      "RINGKASAN HASIL MODEL\n",
      "================================================================================\n",
      "Dataset Information:\n",
      "  Training samples: 1400\n",
      "  Validation samples: 300\n",
      "  Test samples: 300\n",
      "  Number of features: 34\n",
      "  Number of classes: 5\n",
      "  Classes: [np.str_('belly_pain'), np.str_('burping'), np.str_('discomfort'), np.str_('hungry'), np.str_('tired')]\n",
      "\n",
      "Best Model Configuration:\n",
      "  kernel: rbf\n",
      "  C: 10.0\n",
      "  gamma: 0.1\n",
      "  max_iter: 500\n",
      "  tol: 0.001\n",
      "  eps: 0.001\n",
      "\n",
      "Model Performance:\n",
      "  Best Validation Accuracy: 0.8267\n",
      "  Final Test Accuracy: 0.8233\n",
      "  Training Time: 141.81 seconds\n",
      "  Prediction Time: 0.1225 seconds\n"
     ]
    }
   ],
   "source": [
    "print(\"\\n8. ANALISIS RESULTS...\")\n",
    "print(\"=\" * 80)\n",
    "print(\"RINGKASAN HASIL MODEL\")\n",
    "print(\"=\" * 80)\n",
    "\n",
    "print(f\"Dataset Information:\")\n",
    "print(f\"  Training samples: {X_train.shape[0]}\")\n",
    "print(f\"  Validation samples: {X_val.shape[0]}\")\n",
    "print(f\"  Test samples: {X_test.shape[0]}\")\n",
    "print(f\"  Number of features: {X_train.shape[1]}\")\n",
    "print(f\"  Number of classes: {len(label_mapping)}\")\n",
    "print(f\"  Classes: {list(label_mapping)}\")\n",
    "\n",
    "print(f\"\\nBest Model Configuration:\")\n",
    "for param, value in best_overall_params.items():\n",
    "    print(f\"  {param}: {value}\")\n",
    "\n",
    "print(f\"\\nModel Performance:\")\n",
    "print(f\"  Best Validation Accuracy: {best_overall_score:.4f}\")\n",
    "print(f\"  Final Test Accuracy: {test_accuracy:.4f}\")\n",
    "print(f\"  Training Time: {final_train_time:.2f} seconds\")\n",
    "print(f\"  Prediction Time: {prediction_time:.4f} seconds\")"
   ]
  },
  {
   "cell_type": "markdown",
   "metadata": {},
   "source": [
    "### 7.2 Support Vectors Analysis"
   ]
  },
  {
   "cell_type": "code",
   "execution_count": 18,
   "metadata": {},
   "outputs": [
    {
     "name": "stdout",
     "output_type": "stream",
     "text": [
      "\n",
      "Support Vectors Information:\n",
      "  Class belly_pain: 438 support vectors\n",
      "  Class burping: 431 support vectors\n",
      "  Class discomfort: 524 support vectors\n",
      "  Class hungry: 676 support vectors\n",
      "  Class tired: 562 support vectors\n",
      "  Total support vectors: 2631\n",
      "  Support vector ratio: 0.3759\n"
     ]
    }
   ],
   "source": [
    "# Informasi tentang support vectors untuk setiap binary classifier\n",
    "print(f\"\\nSupport Vectors Information:\")\n",
    "total_support_vectors = 0\n",
    "for class_label in final_model.classes:\n",
    "    classifier = final_model.classifiers[class_label]\n",
    "    n_sv = len(classifier.support_vectors) if hasattr(classifier, 'support_vectors') else 0\n",
    "    total_support_vectors += n_sv\n",
    "    print(f\"  Class {label_mapping[class_label]}: {n_sv} support vectors\")\n",
    "    \n",
    "print(f\"  Total support vectors: {total_support_vectors}\")\n",
    "print(f\"  Support vector ratio: {total_support_vectors/(X_train.shape[0]*len(label_mapping)):.4f}\")"
   ]
  },
  {
   "cell_type": "markdown",
   "metadata": {},
   "source": [
    "## 8. Save Model\n",
    "\n",
    "### 8.1 Package and Save Model"
   ]
  },
  {
   "cell_type": "code",
   "execution_count": 19,
   "metadata": {},
   "outputs": [
    {
     "name": "stdout",
     "output_type": "stream",
     "text": [
      "\n",
      "9. SIMPAN MODEL...\n",
      "Model berhasil disimpan sebagai 'best_svm_model.pkl'\n",
      "\n",
      "Untuk memuat model:\n",
      "with open('best_svm_model.pkl', 'rb') as f:\n",
      "    model_package = pickle.load(f)\n",
      "    model = model_package['model']\n",
      "    best_params = model_package['best_params']\n"
     ]
    }
   ],
   "source": [
    "print(\"\\n9. SIMPAN MODEL...\")\n",
    "\n",
    "# Simpan best model\n",
    "model_filename = 'best_svm_model.pkl'\n",
    "\n",
    "# Buat dictionary untuk menyimpan semua informasi model\n",
    "model_package = {\n",
    "    'model': final_model,\n",
    "    'best_params': best_overall_params,\n",
    "    'validation_accuracy': best_overall_score,\n",
    "    'test_accuracy': test_accuracy,\n",
    "    'label_mapping': label_mapping,\n",
    "    'feature_names': feature_names,\n",
    "    'training_time': final_train_time,\n",
    "    'prediction_time': prediction_time,\n",
    "    'grid_search_results': {\n",
    "        'linear_results': linear_results,\n",
    "        'rbf_results': rbf_results\n",
    "    }\n",
    "}\n",
    "\n",
    "# Simpan model\n",
    "with open(model_filename, 'wb') as f:\n",
    "    pickle.dump(model_package, f)\n",
    "\n",
    "print(f\"Model berhasil disimpan sebagai '{model_filename}'\")\n",
    "print(f\"\\nUntuk memuat model:\")\n",
    "print(f\"with open('{model_filename}', 'rb') as f:\")\n",
    "print(f\"    model_package = pickle.load(f)\")\n",
    "print(f\"    model = model_package['model']\")\n",
    "print(f\"    best_params = model_package['best_params']\")"
   ]
  },
  {
   "cell_type": "markdown",
   "metadata": {},
   "source": [
    "### 8.2 Final Summary"
   ]
  },
  {
   "cell_type": "code",
   "execution_count": 20,
   "metadata": {},
   "outputs": [
    {
     "name": "stdout",
     "output_type": "stream",
     "text": [
      "\n",
      "================================================================================\n",
      "IMPLEMENTASI SVM SELESAI!\n",
      "================================================================================\n",
      "✅ Dataset berhasil dimuat dan diproses\n",
      "✅ SVM from scratch dengan SMO algorithm berhasil diimplementasi\n",
      "✅ One-vs-Rest multiclass classification berhasil diimplementasi\n",
      "✅ Grid search hyperparameter tuning berhasil dilakukan\n",
      "✅ Model evaluation dengan berbagai metrik berhasil dilakukan\n",
      "✅ Best model berhasil disimpan dalam format .pkl\n",
      "\n",
      "Final Test Accuracy: 0.8233\n",
      "Best Parameters: {'kernel': 'rbf', 'C': 10.0, 'gamma': 0.1, 'max_iter': 500, 'tol': 0.001, 'eps': 0.001}\n",
      "================================================================================\n"
     ]
    }
   ],
   "source": [
    "print(\"\\n\" + \"=\" * 80)\n",
    "print(\"IMPLEMENTASI SVM SELESAI!\")\n",
    "print(\"=\" * 80)\n",
    "print(f\"✅ Dataset berhasil dimuat dan diproses\")\n",
    "print(f\"✅ SVM from scratch dengan SMO algorithm berhasil diimplementasi\")\n",
    "print(f\"✅ One-vs-Rest multiclass classification berhasil diimplementasi\")\n",
    "print(f\"✅ Grid search hyperparameter tuning berhasil dilakukan\")\n",
    "print(f\"✅ Model evaluation dengan berbagai metrik berhasil dilakukan\")\n",
    "print(f\"✅ Best model berhasil disimpan dalam format .pkl\")\n",
    "print(f\"\\nFinal Test Accuracy: {test_accuracy:.4f}\")\n",
    "print(f\"Best Parameters: {best_overall_params}\")\n",
    "print(\"=\" * 80)"
   ]
  }
 ],
 "metadata": {
  "kernelspec": {
   "display_name": ".venv",
   "language": "python",
   "name": "python3"
  },
  "language_info": {
   "codemirror_mode": {
    "name": "ipython",
    "version": 3
   },
   "file_extension": ".py",
   "mimetype": "text/x-python",
   "name": "python",
   "nbconvert_exporter": "python",
   "pygments_lexer": "ipython3",
   "version": "3.13.0"
  }
 },
 "nbformat": 4,
 "nbformat_minor": 4
}
